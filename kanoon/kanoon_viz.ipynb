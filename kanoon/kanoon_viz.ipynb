{
 "cells": [
  {
   "cell_type": "markdown",
   "metadata": {},
   "source": [
    "# Extract Structured Information from Case Texts\n",
    "A sample of 10k files across different years and High Courts is used to create functions and processes to extract information. Helper functions are written in Pycharm and imported."
   ]
  },
  {
   "cell_type": "code",
   "execution_count": 1,
   "metadata": {},
   "outputs": [],
   "source": [
    "import os \n",
    "import re\n",
    "import time\n",
    "import csv\n",
    "import numpy as np\n",
    "import pandas as pd\n",
    "from bs4 import BeautifulSoup\n",
    "import ik_parsing as ik\n",
    "import data_extraction as de\n",
    "import defs\n",
    "from datetime import datetime\n",
    "from collections import defaultdict\n",
    "import itertools\n",
    "import zipfile\n",
    "import gzip\n",
    "import json\n",
    "import concurrent.futures\n",
    "\n",
    "head, tail = os.path.split(os.getcwd())"
   ]
  },
  {
   "cell_type": "code",
   "execution_count": 2,
   "metadata": {},
   "outputs": [
    {
     "data": {
      "text/plain": [
       "<module 'data_extraction' from 'C:\\\\Users\\\\Nick\\\\Desktop\\\\Chicago\\\\DIME\\\\kanoon\\\\data_extraction.py'>"
      ]
     },
     "execution_count": 2,
     "metadata": {},
     "output_type": "execute_result"
    }
   ],
   "source": [
    "import importlib\n",
    "importlib.reload(ik)\n",
    "importlib.reload(de)"
   ]
  },
  {
   "cell_type": "markdown",
   "metadata": {},
   "source": [
    "## 2. Extracting Structured Information from Case Text\n",
    "Similar to what we did with the more structured Guwahati HC data, we now try to parse important information such as judge names, case types, names of litigants etc from the case text. It is incredibly hard due to different courts having different formats that also change with time."
   ]
  },
  {
   "cell_type": "markdown",
   "metadata": {},
   "source": [
    "Import a list of banks from a RBI linked website. This seems like an exhaustive list of ~160 banks in India."
   ]
  },
  {
   "cell_type": "markdown",
   "metadata": {},
   "source": [
    "### Without multiprocessing"
   ]
  },
  {
   "cell_type": "code",
   "execution_count": 215,
   "metadata": {},
   "outputs": [
    {
     "name": "stdout",
     "output_type": "stream",
     "text": [
      "bombay court done for year 2000 at time --- 4.9758172035217285 seconds ---\n",
      "bombay court done for year 2001 at time --- 5.445958614349365 seconds ---\n",
      "bombay court done for year 2002 at time --- 6.237792015075684 seconds ---\n",
      "bombay court done for year 2003 at time --- 6.9874045848846436 seconds ---\n",
      "bombay court done for year 2004 at time --- 7.319717168807983 seconds ---\n",
      "bombay court done for year 2005 at time --- 8.266783237457275 seconds ---\n",
      "bombay court done for year 2006 at time --- 8.830883026123047 seconds ---\n",
      "bombay court done for year 2007 at time --- 9.301111698150635 seconds ---\n",
      "bombay court done for year 2008 at time --- 9.686726570129395 seconds ---\n",
      "bombay court done for year 2009 at time --- 10.088056087493896 seconds ---\n",
      "bombay court done for year 2010 at time --- 10.319886207580566 seconds ---\n",
      "bombay court done for year 2011 at time --- 10.805779933929443 seconds ---\n",
      "bombay court done for year 2012 at time --- 11.090831995010376 seconds ---\n",
      "bombay court done for year 2013 at time --- 11.291458368301392 seconds ---\n",
      "bombay court done for year 2014 at time --- 11.57661485671997 seconds ---\n",
      "bombay court done for year 2015 at time --- 11.99347448348999 seconds ---\n",
      "bombay court done for year 2016 at time --- 12.372064113616943 seconds ---\n",
      "bombay court done for year 2017 at time --- 13.259312391281128 seconds ---\n",
      "bombay court done for year 2018 at time --- 13.56017255783081 seconds ---\n",
      "bombay court done for year 2019 at time --- 13.760797262191772 seconds ---\n",
      "bombay court done for year 2000 at time --- 14.145978927612305 seconds ---\n",
      "bombay court done for year 2001 at time --- 12.3065664768219 seconds ---\n",
      "bombay court done for year 2002 at time --- 13.070796251296997 seconds ---\n",
      "bombay court done for year 2003 at time --- 13.734182834625244 seconds ---\n",
      "bombay court done for year 2004 at time --- 14.018789529800415 seconds ---\n",
      "bombay court done for year 2005 at time --- 14.852314949035645 seconds ---\n",
      "bombay court done for year 2006 at time --- 15.422714710235596 seconds ---\n",
      "bombay court done for year 2007 at time --- 15.839461326599121 seconds ---\n",
      "bombay court done for year 2008 at time --- 16.24052143096924 seconds ---\n",
      "bombay court done for year 2009 at time --- 16.572604417800903 seconds ---\n",
      "bombay court done for year 2010 at time --- 16.810850620269775 seconds ---\n",
      "bombay court done for year 2011 at time --- 17.1897234916687 seconds ---\n",
      "bombay court done for year 2012 at time --- 17.49042534828186 seconds ---\n",
      "bombay court done for year 2013 at time --- 17.691011667251587 seconds ---\n",
      "bombay court done for year 2014 at time --- 17.945001125335693 seconds ---\n",
      "bombay court done for year 2015 at time --- 18.361608266830444 seconds ---\n",
      "bombay court done for year 2016 at time --- 18.73136568069458 seconds ---\n",
      "bombay court done for year 2017 at time --- 19.495838165283203 seconds ---\n",
      "bombay court done for year 2018 at time --- 19.780942916870117 seconds ---\n",
      "bombay court done for year 2019 at time --- 20.019237756729126 seconds ---\n",
      "bombay court done for year 2001 at time --- 34.2968692779541 seconds ---\n",
      "bombay court done for year 2002 at time --- 2.7762813568115234 seconds ---\n",
      "bombay court done for year 2003 at time --- 3.4797377586364746 seconds ---\n",
      "bombay court done for year 2004 at time --- 3.780169725418091 seconds ---\n",
      "bombay court done for year 2005 at time --- 4.581645250320435 seconds ---\n",
      "bombay court done for year 2006 at time --- 5.159848213195801 seconds ---\n",
      "bombay court done for year 2007 at time --- 5.582370042800903 seconds ---\n",
      "bombay court done for year 2008 at time --- 5.974929094314575 seconds ---\n",
      "bombay court done for year 2009 at time --- 6.328692197799683 seconds ---\n",
      "bombay court done for year 2010 at time --- 6.544236183166504 seconds ---\n",
      "bombay court done for year 2011 at time --- 6.915584564208984 seconds ---\n",
      "bombay court done for year 2012 at time --- 7.2007246017456055 seconds ---\n",
      "bombay court done for year 2013 at time --- 7.416827440261841 seconds ---\n",
      "bombay court done for year 2014 at time --- 7.669899940490723 seconds ---\n",
      "bombay court done for year 2015 at time --- 8.017823457717896 seconds ---\n",
      "bombay court done for year 2016 at time --- 8.349869728088379 seconds ---\n",
      "bombay court done for year 2017 at time --- 9.151580572128296 seconds ---\n",
      "bombay court done for year 2018 at time --- 9.436941862106323 seconds ---\n",
      "bombay court done for year 2019 at time --- 9.737724781036377 seconds ---\n",
      "bombay court done for year 2002 at time --- 44.23046255111694 seconds ---\n",
      "bombay court done for year 2003 at time --- 2.873006582260132 seconds ---\n",
      "bombay court done for year 2004 at time --- 3.201028823852539 seconds ---\n",
      "bombay court done for year 2005 at time --- 3.9947614669799805 seconds ---\n",
      "bombay court done for year 2006 at time --- 4.56917405128479 seconds ---\n",
      "bombay court done for year 2007 at time --- 4.9944446086883545 seconds ---\n",
      "bombay court done for year 2008 at time --- 5.409696817398071 seconds ---\n",
      "bombay court done for year 2009 at time --- 5.7259886264801025 seconds ---\n",
      "bombay court done for year 2010 at time --- 5.94771671295166 seconds ---\n",
      "bombay court done for year 2011 at time --- 6.295543909072876 seconds ---\n",
      "bombay court done for year 2012 at time --- 6.5670249462127686 seconds ---\n",
      "bombay court done for year 2013 at time --- 6.746651887893677 seconds ---\n",
      "bombay court done for year 2014 at time --- 6.981998443603516 seconds ---\n",
      "bombay court done for year 2015 at time --- 7.351879119873047 seconds ---\n",
      "bombay court done for year 2016 at time --- 7.799655914306641 seconds ---\n",
      "bombay court done for year 2017 at time --- 8.5166757106781 seconds ---\n",
      "bombay court done for year 2018 at time --- 8.770862102508545 seconds ---\n",
      "bombay court done for year 2019 at time --- 8.971426725387573 seconds ---\n",
      "bombay court done for year 2003 at time --- 53.364612102508545 seconds ---\n",
      "bombay court done for year 2004 at time --- 2.6621274948120117 seconds ---\n",
      "bombay court done for year 2005 at time --- 3.4799108505249023 seconds ---\n",
      "bombay court done for year 2006 at time --- 4.034713268280029 seconds ---\n",
      "bombay court done for year 2007 at time --- 4.451553583145142 seconds ---\n",
      "bombay court done for year 2008 at time --- 4.868324518203735 seconds ---\n",
      "bombay court done for year 2009 at time --- 5.237972259521484 seconds ---\n",
      "bombay court done for year 2010 at time --- 5.438575983047485 seconds ---\n",
      "bombay court done for year 2011 at time --- 5.7876877784729 seconds ---\n",
      "bombay court done for year 2012 at time --- 6.039535999298096 seconds ---\n",
      "bombay court done for year 2013 at time --- 6.218731880187988 seconds ---\n",
      "bombay court done for year 2014 at time --- 6.4667181968688965 seconds ---\n",
      "bombay court done for year 2015 at time --- 6.81866455078125 seconds ---\n",
      "bombay court done for year 2016 at time --- 7.141383171081543 seconds ---\n",
      "bombay court done for year 2017 at time --- 7.834378242492676 seconds ---\n",
      "bombay court done for year 2018 at time --- 8.119791030883789 seconds ---\n",
      "bombay court done for year 2019 at time --- 8.319048643112183 seconds ---\n",
      "bombay court done for year 2004 at time --- 61.808045387268066 seconds ---\n",
      "bombay court done for year 2005 at time --- 2.4494519233703613 seconds ---\n",
      "bombay court done for year 2006 at time --- 2.982253313064575 seconds ---\n",
      "bombay court done for year 2007 at time --- 3.3835012912750244 seconds ---\n",
      "bombay court done for year 2008 at time --- 3.800325870513916 seconds ---\n",
      "bombay court done for year 2009 at time --- 4.116786956787109 seconds ---\n",
      "bombay court done for year 2010 at time --- 4.339650869369507 seconds ---\n",
      "bombay court done for year 2011 at time --- 4.687520265579224 seconds ---\n",
      "bombay court done for year 2012 at time --- 4.941429853439331 seconds ---\n",
      "bombay court done for year 2013 at time --- 5.1199071407318115 seconds ---\n",
      "bombay court done for year 2014 at time --- 5.365379810333252 seconds ---\n",
      "bombay court done for year 2015 at time --- 5.715561866760254 seconds ---\n",
      "bombay court done for year 2016 at time --- 6.0633039474487305 seconds ---\n",
      "bombay court done for year 2017 at time --- 6.734298467636108 seconds ---\n",
      "bombay court done for year 2018 at time --- 6.988229274749756 seconds ---\n",
      "bombay court done for year 2019 at time --- 7.188894033432007 seconds ---\n",
      "bombay court done for year 2005 at time --- 69.12854194641113 seconds ---\n"
     ]
    },
    {
     "name": "stdout",
     "output_type": "stream",
     "text": [
      "bombay court done for year 2006 at time --- 2.490288019180298 seconds ---\n",
      "bombay court done for year 2007 at time --- 2.9134535789489746 seconds ---\n",
      "bombay court done for year 2008 at time --- 3.2767767906188965 seconds ---\n",
      "bombay court done for year 2009 at time --- 3.593202590942383 seconds ---\n",
      "bombay court done for year 2010 at time --- 3.793717384338379 seconds ---\n",
      "bombay court done for year 2011 at time --- 4.14783501625061 seconds ---\n",
      "bombay court done for year 2012 at time --- 4.395179748535156 seconds ---\n",
      "bombay court done for year 2013 at time --- 4.580114364624023 seconds ---\n",
      "bombay court done for year 2014 at time --- 4.8183863162994385 seconds ---\n",
      "bombay court done for year 2015 at time --- 5.197363376617432 seconds ---\n",
      "bombay court done for year 2016 at time --- 5.551539897918701 seconds ---\n",
      "bombay court done for year 2017 at time --- 6.215695142745972 seconds ---\n",
      "bombay court done for year 2018 at time --- 6.52295994758606 seconds ---\n",
      "bombay court done for year 2019 at time --- 6.751706838607788 seconds ---\n",
      "bombay court done for year 2006 at time --- 76.02486109733582 seconds ---\n",
      "bombay court done for year 2007 at time --- 2.5065758228302 seconds ---\n",
      "bombay court done for year 2008 at time --- 2.861109733581543 seconds ---\n",
      "bombay court done for year 2009 at time --- 3.1775500774383545 seconds ---\n",
      "bombay court done for year 2010 at time --- 3.3781630992889404 seconds ---\n",
      "bombay court done for year 2011 at time --- 3.7325806617736816 seconds ---\n",
      "bombay court done for year 2012 at time --- 3.980076313018799 seconds ---\n",
      "bombay court done for year 2013 at time --- 4.164982557296753 seconds ---\n",
      "bombay court done for year 2014 at time --- 4.412416934967041 seconds ---\n",
      "bombay court done for year 2015 at time --- 4.851218938827515 seconds ---\n",
      "bombay court done for year 2016 at time --- 5.1834187507629395 seconds ---\n",
      "bombay court done for year 2017 at time --- 5.852928400039673 seconds ---\n",
      "bombay court done for year 2018 at time --- 6.106964111328125 seconds ---\n",
      "bombay court done for year 2019 at time --- 6.30751371383667 seconds ---\n",
      "bombay court done for year 2007 at time --- 82.4482421875 seconds ---\n",
      "bombay court done for year 2008 at time --- 2.0044476985931396 seconds ---\n",
      "bombay court done for year 2009 at time --- 2.319793701171875 seconds ---\n",
      "bombay court done for year 2010 at time --- 2.519888401031494 seconds ---\n",
      "bombay court done for year 2011 at time --- 2.8579671382904053 seconds ---\n",
      "bombay court done for year 2012 at time --- 3.1047146320343018 seconds ---\n",
      "bombay court done for year 2013 at time --- 3.3354194164276123 seconds ---\n",
      "bombay court done for year 2014 at time --- 3.577146530151367 seconds ---\n",
      "bombay court done for year 2015 at time --- 4.388167381286621 seconds ---\n",
      "bombay court done for year 2016 at time --- 4.751579999923706 seconds ---\n",
      "bombay court done for year 2017 at time --- 5.413819789886475 seconds ---\n",
      "bombay court done for year 2018 at time --- 5.667747259140015 seconds ---\n",
      "bombay court done for year 2019 at time --- 5.8682637214660645 seconds ---\n",
      "bombay court done for year 2008 at time --- 88.44798302650452 seconds ---\n",
      "bombay court done for year 2009 at time --- 1.9741590023040771 seconds ---\n",
      "bombay court done for year 2010 at time --- 2.190431833267212 seconds ---\n",
      "bombay court done for year 2011 at time --- 2.538069248199463 seconds ---\n",
      "bombay court done for year 2012 at time --- 2.7763783931732178 seconds ---\n",
      "bombay court done for year 2013 at time --- 2.992518186569214 seconds ---\n",
      "bombay court done for year 2014 at time --- 3.2243056297302246 seconds ---\n",
      "bombay court done for year 2015 at time --- 3.5783591270446777 seconds ---\n",
      "bombay court done for year 2016 at time --- 3.941638231277466 seconds ---\n",
      "bombay court done for year 2017 at time --- 4.649850845336914 seconds ---\n",
      "bombay court done for year 2018 at time --- 4.912892580032349 seconds ---\n",
      "bombay court done for year 2019 at time --- 5.113408088684082 seconds ---\n",
      "bombay court done for year 2009 at time --- 93.69290900230408 seconds ---\n",
      "bombay court done for year 2010 at time --- 2.509519100189209 seconds ---\n",
      "bombay court done for year 2011 at time --- 2.8614163398742676 seconds ---\n",
      "bombay court done for year 2012 at time --- 3.110151767730713 seconds ---\n",
      "bombay court done for year 2013 at time --- 3.302917957305908 seconds ---\n",
      "bombay court done for year 2014 at time --- 3.525355577468872 seconds ---\n",
      "bombay court done for year 2015 at time --- 3.8888609409332275 seconds ---\n",
      "bombay court done for year 2016 at time --- 4.20930552482605 seconds ---\n",
      "bombay court done for year 2017 at time --- 4.864422798156738 seconds ---\n",
      "bombay court done for year 2018 at time --- 5.142183780670166 seconds ---\n",
      "bombay court done for year 2019 at time --- 5.326842546463013 seconds ---\n",
      "bombay court done for year 2010 at time --- 99.1493718624115 seconds ---\n",
      "bombay court done for year 2011 at time --- 2.4029088020324707 seconds ---\n",
      "bombay court done for year 2012 at time --- 2.6568715572357178 seconds ---\n",
      "bombay court done for year 2013 at time --- 2.841834545135498 seconds ---\n",
      "bombay court done for year 2014 at time --- 3.073734760284424 seconds ---\n",
      "bombay court done for year 2015 at time --- 3.443808078765869 seconds ---\n",
      "bombay court done for year 2016 at time --- 3.79168438911438 seconds ---\n",
      "bombay court done for year 2017 at time --- 4.440098285675049 seconds ---\n",
      "bombay court done for year 2018 at time --- 4.694215536117554 seconds ---\n",
      "bombay court done for year 2019 at time --- 4.879180431365967 seconds ---\n",
      "bombay court done for year 2011 at time --- 104.16019105911255 seconds ---\n",
      "bombay court done for year 2012 at time --- 2.5415167808532715 seconds ---\n",
      "bombay court done for year 2013 at time --- 2.7265148162841797 seconds ---\n",
      "bombay court done for year 2014 at time --- 2.9582345485687256 seconds ---\n",
      "bombay court done for year 2015 at time --- 3.312382936477661 seconds ---\n",
      "bombay court done for year 2016 at time --- 3.6822147369384766 seconds ---\n",
      "bombay court done for year 2017 at time --- 4.384066820144653 seconds ---\n",
      "bombay court done for year 2018 at time --- 4.63153862953186 seconds ---\n",
      "bombay court done for year 2019 at time --- 4.832113027572632 seconds ---\n",
      "bombay court done for year 2012 at time --- 109.12373065948486 seconds ---\n",
      "bombay court done for year 2013 at time --- 2.143883466720581 seconds ---\n",
      "bombay court done for year 2014 at time --- 2.3756346702575684 seconds ---\n",
      "bombay court done for year 2015 at time --- 2.7766811847686768 seconds ---\n",
      "bombay court done for year 2016 at time --- 3.146677017211914 seconds ---\n",
      "bombay court done for year 2017 at time --- 3.848724603652954 seconds ---\n",
      "bombay court done for year 2018 at time --- 4.096112012863159 seconds ---\n",
      "bombay court done for year 2019 at time --- 4.296764850616455 seconds ---\n",
      "bombay court done for year 2013 at time --- 113.53642106056213 seconds ---\n",
      "bombay court done for year 2014 at time --- 2.493901014328003 seconds ---\n",
      "bombay court done for year 2015 at time --- 2.8639230728149414 seconds ---\n",
      "bombay court done for year 2016 at time --- 3.218251943588257 seconds ---\n",
      "bombay court done for year 2017 at time --- 3.8980538845062256 seconds ---\n",
      "bombay court done for year 2018 at time --- 4.152093410491943 seconds ---\n",
      "bombay court done for year 2019 at time --- 4.3526482582092285 seconds ---\n",
      "bombay court done for year 2014 at time --- 118.00493288040161 seconds ---\n",
      "bombay court done for year 2015 at time --- 2.4478180408477783 seconds ---\n",
      "bombay court done for year 2016 at time --- 2.7849953174591064 seconds ---\n",
      "bombay court done for year 2017 at time --- 3.455901622772217 seconds ---\n",
      "bombay court done for year 2018 at time --- 3.7099132537841797 seconds ---\n",
      "bombay court done for year 2019 at time --- 3.9261221885681152 seconds ---\n",
      "bombay court done for year 2015 at time --- 122.04686880111694 seconds ---\n",
      "bombay court done for year 2016 at time --- 2.43107533454895 seconds ---\n",
      "bombay court done for year 2017 at time --- 3.0901310443878174 seconds ---\n",
      "bombay court done for year 2018 at time --- 3.344191074371338 seconds ---\n",
      "bombay court done for year 2019 at time --- 3.560401439666748 seconds ---\n",
      "bombay court done for year 2016 at time --- 125.72320055961609 seconds ---\n",
      "bombay court done for year 2017 at time --- 2.1082544326782227 seconds ---\n"
     ]
    },
    {
     "name": "stdout",
     "output_type": "stream",
     "text": [
      "bombay court done for year 2018 at time --- 2.3600223064422607 seconds ---\n",
      "bombay court done for year 2019 at time --- 2.5601155757904053 seconds ---\n",
      "bombay court done for year 2017 at time --- 128.40993309020996 seconds ---\n",
      "bombay court done for year 2018 at time --- 2.385251045227051 seconds ---\n",
      "bombay court done for year 2019 at time --- 2.5701637268066406 seconds ---\n",
      "bombay court done for year 2018 at time --- 131.09732747077942 seconds ---\n",
      "bombay court done for year 2019 at time --- 2.0369558334350586 seconds ---\n",
      "bombay court done for year 2019 at time --- 133.2502155303955 seconds ---\n"
     ]
    },
    {
     "ename": "TypeError",
     "evalue": "cannot concatenate object of type '<class 'str'>'; only Series and DataFrame objs are valid",
     "output_type": "error",
     "traceback": [
      "\u001b[1;31m---------------------------------------------------------------------------\u001b[0m",
      "\u001b[1;31mTypeError\u001b[0m                                 Traceback (most recent call last)",
      "\u001b[1;32m<ipython-input-215-3f86499ba9f0>\u001b[0m in \u001b[0;36m<module>\u001b[1;34m\u001b[0m\n\u001b[0;32m     12\u001b[0m \u001b[1;33m\u001b[0m\u001b[0m\n\u001b[0;32m     13\u001b[0m \u001b[1;31m#         df = df.append(de.extract_data(court))\u001b[0m\u001b[1;33m\u001b[0m\u001b[1;33m\u001b[0m\u001b[1;33m\u001b[0m\u001b[0m\n\u001b[1;32m---> 14\u001b[1;33m     \u001b[0mtemp_df\u001b[0m \u001b[1;33m=\u001b[0m \u001b[0mpd\u001b[0m\u001b[1;33m.\u001b[0m\u001b[0mconcat\u001b[0m\u001b[1;33m(\u001b[0m\u001b[0mlist_of_dfs\u001b[0m\u001b[1;33m)\u001b[0m\u001b[1;33m\u001b[0m\u001b[1;33m\u001b[0m\u001b[0m\n\u001b[0m\u001b[0;32m     15\u001b[0m     \u001b[0mdf\u001b[0m \u001b[1;33m=\u001b[0m \u001b[0mdf\u001b[0m\u001b[1;33m.\u001b[0m\u001b[0mappend\u001b[0m\u001b[1;33m(\u001b[0m\u001b[0mtemp_df\u001b[0m\u001b[1;33m)\u001b[0m\u001b[1;33m\u001b[0m\u001b[1;33m\u001b[0m\u001b[0m\n\u001b[0;32m     16\u001b[0m \u001b[1;33m\u001b[0m\u001b[0m\n",
      "\u001b[1;32m~\\Anaconda3\\lib\\site-packages\\pandas\\core\\reshape\\concat.py\u001b[0m in \u001b[0;36mconcat\u001b[1;34m(objs, axis, join, ignore_index, keys, levels, names, verify_integrity, sort, copy)\u001b[0m\n\u001b[0;32m    279\u001b[0m         \u001b[0mverify_integrity\u001b[0m\u001b[1;33m=\u001b[0m\u001b[0mverify_integrity\u001b[0m\u001b[1;33m,\u001b[0m\u001b[1;33m\u001b[0m\u001b[1;33m\u001b[0m\u001b[0m\n\u001b[0;32m    280\u001b[0m         \u001b[0mcopy\u001b[0m\u001b[1;33m=\u001b[0m\u001b[0mcopy\u001b[0m\u001b[1;33m,\u001b[0m\u001b[1;33m\u001b[0m\u001b[1;33m\u001b[0m\u001b[0m\n\u001b[1;32m--> 281\u001b[1;33m         \u001b[0msort\u001b[0m\u001b[1;33m=\u001b[0m\u001b[0msort\u001b[0m\u001b[1;33m,\u001b[0m\u001b[1;33m\u001b[0m\u001b[1;33m\u001b[0m\u001b[0m\n\u001b[0m\u001b[0;32m    282\u001b[0m     )\n\u001b[0;32m    283\u001b[0m \u001b[1;33m\u001b[0m\u001b[0m\n",
      "\u001b[1;32m~\\Anaconda3\\lib\\site-packages\\pandas\\core\\reshape\\concat.py\u001b[0m in \u001b[0;36m__init__\u001b[1;34m(self, objs, axis, join, keys, levels, names, ignore_index, verify_integrity, copy, sort)\u001b[0m\n\u001b[0;32m    355\u001b[0m                     \u001b[1;34m\"only Series and DataFrame objs are valid\"\u001b[0m\u001b[1;33m.\u001b[0m\u001b[0mformat\u001b[0m\u001b[1;33m(\u001b[0m\u001b[0mtyp\u001b[0m\u001b[1;33m=\u001b[0m\u001b[0mtype\u001b[0m\u001b[1;33m(\u001b[0m\u001b[0mobj\u001b[0m\u001b[1;33m)\u001b[0m\u001b[1;33m)\u001b[0m\u001b[1;33m\u001b[0m\u001b[1;33m\u001b[0m\u001b[0m\n\u001b[0;32m    356\u001b[0m                 )\n\u001b[1;32m--> 357\u001b[1;33m                 \u001b[1;32mraise\u001b[0m \u001b[0mTypeError\u001b[0m\u001b[1;33m(\u001b[0m\u001b[0mmsg\u001b[0m\u001b[1;33m)\u001b[0m\u001b[1;33m\u001b[0m\u001b[1;33m\u001b[0m\u001b[0m\n\u001b[0m\u001b[0;32m    358\u001b[0m \u001b[1;33m\u001b[0m\u001b[0m\n\u001b[0;32m    359\u001b[0m             \u001b[1;31m# consolidate\u001b[0m\u001b[1;33m\u001b[0m\u001b[1;33m\u001b[0m\u001b[1;33m\u001b[0m\u001b[0m\n",
      "\u001b[1;31mTypeError\u001b[0m: cannot concatenate object of type '<class 'str'>'; only Series and DataFrame objs are valid"
     ]
    }
   ],
   "source": [
    "courts = ['bombay', 'jharkhand']\n",
    "df = pd.DataFrame()\n",
    "# df_list = []\n",
    "\n",
    "start = time.time()\n",
    "\n",
    "for court in courts:\n",
    "    list_of_dfs = []\n",
    "    for year in range(2000, 2020):\n",
    "        list_of_dfs.append(de.extract_data(court, year))\n",
    "        print(f\"{court} court done for year {year} at time --- {(time.time() - start)} seconds ---\")\n",
    "\n",
    "#         df = df.append(de.extract_data(court))\n",
    "    temp_df = pd.concat(list_of_dfs)\n",
    "    df = df.append(temp_df)\n",
    "\n",
    "#     df_list.append(de.extract_data(court))\n",
    "\n",
    "print(f\"--- Total {(time.time() - start)} seconds ---\")  \n",
    "# takes ~1506 seconds for 500 limit break, takes 120s with 5 limit break and with court/year both iterated here.\n",
    "print(df.shape)\n",
    "df.head()"
   ]
  },
  {
   "cell_type": "code",
   "execution_count": 5,
   "metadata": {},
   "outputs": [
    {
     "name": "stdout",
     "output_type": "stream",
     "text": [
      "bombay court done for year 2000 at time --- 2.5707640647888184 seconds ---\n",
      "bombay court done for year 2001 at time --- 3.3290650844573975 seconds ---\n",
      "bombay court done for year 2002 at time --- 4.059908151626587 seconds ---\n",
      "bombay court done for year 2003 at time --- 4.391266822814941 seconds ---\n",
      "bombay court done for year 2004 at time --- 5.240583181381226 seconds ---\n",
      "bombay court done for year 2005 at time --- 5.7807886600494385 seconds ---\n",
      "bombay court done for year 2006 at time --- 6.170837163925171 seconds ---\n",
      "bombay court done for year 2007 at time --- 6.533896446228027 seconds ---\n",
      "bombay court done for year 2008 at time --- 6.849658489227295 seconds ---\n",
      "bombay court done for year 2009 at time --- 7.050205230712891 seconds ---\n",
      "bombay court done for year 2010 at time --- 7.416744709014893 seconds ---\n",
      "bombay court done for year 2011 at time --- 7.673692941665649 seconds ---\n",
      "bombay court done for year 2012 at time --- 7.856415510177612 seconds ---\n",
      "bombay court done for year 2013 at time --- 8.130824327468872 seconds ---\n",
      "bombay court done for year 2014 at time --- 8.64107894897461 seconds ---\n",
      "bombay court done for year 2015 at time --- 9.025902032852173 seconds ---\n",
      "bombay court done for year 2016 at time --- 9.711040735244751 seconds ---\n",
      "bombay court done for year 2017 at time --- 9.9918692111969 seconds ---\n",
      "bombay court done for year 2018 at time --- 10.229093790054321 seconds ---\n",
      "bombay court done for year 2019 at time --- 10.459011554718018 seconds ---\n",
      "jharkhand court done for year 2000 at time --- 14.385916709899902 seconds ---\n",
      "jharkhand court done for year 2001 at time --- 14.600140810012817 seconds ---\n",
      "jharkhand court done for year 2002 at time --- 14.812731742858887 seconds ---\n",
      "jharkhand court done for year 2003 at time --- 15.101154565811157 seconds ---\n",
      "jharkhand court done for year 2004 at time --- 15.661025047302246 seconds ---\n",
      "jharkhand court done for year 2005 at time --- 15.979659080505371 seconds ---\n",
      "jharkhand court done for year 2006 at time --- 16.35114073753357 seconds ---\n",
      "jharkhand court done for year 2007 at time --- 17.011828660964966 seconds ---\n",
      "jharkhand court done for year 2008 at time --- 17.25077223777771 seconds ---\n",
      "jharkhand court done for year 2009 at time --- 17.450888872146606 seconds ---\n",
      "jharkhand court done for year 2010 at time --- 17.671244382858276 seconds ---\n",
      "jharkhand court done for year 2011 at time --- 17.85003137588501 seconds ---\n",
      "jharkhand court done for year 2012 at time --- 18.02098512649536 seconds ---\n",
      "jharkhand court done for year 2013 at time --- 18.23502469062805 seconds ---\n",
      "jharkhand court done for year 2014 at time --- 18.410980939865112 seconds ---\n",
      "jharkhand court done for year 2015 at time --- 18.589998483657837 seconds ---\n",
      "jharkhand court done for year 2016 at time --- 18.841167449951172 seconds ---\n",
      "jharkhand court done for year 2017 at time --- 19.14081048965454 seconds ---\n",
      "jharkhand court done for year 2018 at time --- 19.380999088287354 seconds ---\n",
      "jharkhand court done for year 2019 at time --- 19.590574264526367 seconds ---\n",
      "--- Total 19.618993282318115 seconds ---\n",
      "(200, 13)\n"
     ]
    },
    {
     "data": {
      "text/html": [
       "<div>\n",
       "<style scoped>\n",
       "    .dataframe tbody tr th:only-of-type {\n",
       "        vertical-align: middle;\n",
       "    }\n",
       "\n",
       "    .dataframe tbody tr th {\n",
       "        vertical-align: top;\n",
       "    }\n",
       "\n",
       "    .dataframe thead th {\n",
       "        text-align: right;\n",
       "    }\n",
       "</style>\n",
       "<table border=\"1\" class=\"dataframe\">\n",
       "  <thead>\n",
       "    <tr style=\"text-align: right;\">\n",
       "      <th></th>\n",
       "      <th>file</th>\n",
       "      <th>cnr_num</th>\n",
       "      <th>title</th>\n",
       "      <th>date</th>\n",
       "      <th>court</th>\n",
       "      <th>case_number</th>\n",
       "      <th>petitioner</th>\n",
       "      <th>respondent</th>\n",
       "      <th>petitioner_advocate</th>\n",
       "      <th>respondent_advocate</th>\n",
       "      <th>judge</th>\n",
       "      <th>banks</th>\n",
       "      <th>citations</th>\n",
       "    </tr>\n",
       "  </thead>\n",
       "  <tbody>\n",
       "    <tr>\n",
       "      <th>0</th>\n",
       "      <td>bombay/2000/1001219.txt</td>\n",
       "      <td>NaN</td>\n",
       "      <td>Smt. Kamalabai Baburao Kabade vs Smt. Laxmibai...</td>\n",
       "      <td>2000-06-16</td>\n",
       "      <td>Bombay High Court</td>\n",
       "      <td>NaN</td>\n",
       "      <td>NaN</td>\n",
       "      <td>NaN</td>\n",
       "      <td>NaN</td>\n",
       "      <td>NaN</td>\n",
       "      <td>{A Khanwilkar}</td>\n",
       "      <td>NaN</td>\n",
       "      <td>{1331149, 1630779, 26690152, 1412634, 1001219,...</td>\n",
       "    </tr>\n",
       "    <tr>\n",
       "      <th>1</th>\n",
       "      <td>bombay/2000/1004863.txt</td>\n",
       "      <td>NaN</td>\n",
       "      <td>Shri Vasant Devlal Bhavsar vs Bar Council Of M...</td>\n",
       "      <td>2000-07-19</td>\n",
       "      <td>Bombay High Court</td>\n",
       "      <td>2. one smt. s.v. vaishnav has lodged a complai...</td>\n",
       "      <td>NaN</td>\n",
       "      <td>NaN</td>\n",
       "      <td>NaN</td>\n",
       "      <td>NaN</td>\n",
       "      <td>{A Shah, B Marlapalle}</td>\n",
       "      <td>NaN</td>\n",
       "      <td>{1004863, 818009, 1439330, 1426050, 200474}</td>\n",
       "    </tr>\n",
       "    <tr>\n",
       "      <th>2</th>\n",
       "      <td>bombay/2000/1007060.txt</td>\n",
       "      <td>NaN</td>\n",
       "      <td>Chandrakant Bhalchandra Garware vs Anil Prabha...</td>\n",
       "      <td>2000-02-09</td>\n",
       "      <td>Bombay High Court</td>\n",
       "      <td>the record and proceedings of the lower court ...</td>\n",
       "      <td>NaN</td>\n",
       "      <td>NaN</td>\n",
       "      <td>NaN</td>\n",
       "      <td>NaN</td>\n",
       "      <td>{D Deshpande}</td>\n",
       "      <td>NaN</td>\n",
       "      <td>{1331149, 1915814, 1314827, 1227984, 1262371, ...</td>\n",
       "    </tr>\n",
       "    <tr>\n",
       "      <th>3</th>\n",
       "      <td>bombay/2000/1007895.txt</td>\n",
       "      <td>NaN</td>\n",
       "      <td>Trimbak S/O Waluba Sonwane vs The State Of Mah...</td>\n",
       "      <td>2000-02-29</td>\n",
       "      <td>Bombay High Court</td>\n",
       "      <td>2. crime no. 143/96 came to be registered agai...</td>\n",
       "      <td>NaN</td>\n",
       "      <td>NaN</td>\n",
       "      <td>NaN</td>\n",
       "      <td>NaN</td>\n",
       "      <td>{B Marlapalle, D Zoting}</td>\n",
       "      <td>NaN</td>\n",
       "      <td>{1543073, 1712542, 810491, 1007895, 291822, 11...</td>\n",
       "    </tr>\n",
       "    <tr>\n",
       "      <th>4</th>\n",
       "      <td>bombay/2000/1011986.txt</td>\n",
       "      <td>NaN</td>\n",
       "      <td>Safruddin Abdul Majid Khan vs Mr. R.H. Mendonc...</td>\n",
       "      <td>2000-04-24</td>\n",
       "      <td>Bombay High Court</td>\n",
       "      <td>NaN</td>\n",
       "      <td>NaN</td>\n",
       "      <td>NaN</td>\n",
       "      <td>NaN</td>\n",
       "      <td>NaN</td>\n",
       "      <td>{V Sahai, Kakade}</td>\n",
       "      <td>NaN</td>\n",
       "      <td>{1011986, 313177, 16008, 1712542, 966422, 9151...</td>\n",
       "    </tr>\n",
       "    <tr>\n",
       "      <th>...</th>\n",
       "      <td>...</td>\n",
       "      <td>...</td>\n",
       "      <td>...</td>\n",
       "      <td>...</td>\n",
       "      <td>...</td>\n",
       "      <td>...</td>\n",
       "      <td>...</td>\n",
       "      <td>...</td>\n",
       "      <td>...</td>\n",
       "      <td>...</td>\n",
       "      <td>...</td>\n",
       "      <td>...</td>\n",
       "      <td>...</td>\n",
       "    </tr>\n",
       "    <tr>\n",
       "      <th>0</th>\n",
       "      <td>jharkhand/2019/58878664.txt</td>\n",
       "      <td>NaN</td>\n",
       "      <td>Survinder Kaur vs The State Of Jharkhand</td>\n",
       "      <td>2019-11-14</td>\n",
       "      <td>Jharkhand High Court</td>\n",
       "      <td>apprehending her arrest in connection with orm...</td>\n",
       "      <td></td>\n",
       "      <td>\\n    the state of jharkhand          .... ......</td>\n",
       "      <td>NaN</td>\n",
       "      <td>NaN</td>\n",
       "      <td>{mr. justice anil kumar choudhary}</td>\n",
       "      <td>NaN</td>\n",
       "      <td>{1976294, 58878664, 94452, 1436241, 1897847, 1...</td>\n",
       "    </tr>\n",
       "    <tr>\n",
       "      <th>1</th>\n",
       "      <td>jharkhand/2019/97365126.txt</td>\n",
       "      <td>NaN</td>\n",
       "      <td>Their Workmen Represented By ... vs Employer I...</td>\n",
       "      <td>2019-11-28</td>\n",
       "      <td>Jharkhand High Court</td>\n",
       "      <td>NaN</td>\n",
       "      <td></td>\n",
       "      <td>\\n                   employer in relation to t...</td>\n",
       "      <td>NaN</td>\n",
       "      <td>NaN</td>\n",
       "      <td>{the chief justice                            ...</td>\n",
       "      <td>NaN</td>\n",
       "      <td>{97365126}</td>\n",
       "    </tr>\n",
       "    <tr>\n",
       "      <th>2</th>\n",
       "      <td>jharkhand/2019/80192852.txt</td>\n",
       "      <td>NaN</td>\n",
       "      <td>Prashant Kumar Singh vs The State Of Jharkhand</td>\n",
       "      <td>2019-04-11</td>\n",
       "      <td>Jharkhand High Court</td>\n",
       "      <td>jainagar p.s. case no.136 of 2018 (g.r. no. 63...</td>\n",
       "      <td></td>\n",
       "      <td>\\n       the state of jharkhand               ...</td>\n",
       "      <td>NaN</td>\n",
       "      <td>NaN</td>\n",
       "      <td>{mr. justice anil kumar choudhary}</td>\n",
       "      <td>NaN</td>\n",
       "      <td>{1985627, 1897847, 80192852, 556166, 1823824, ...</td>\n",
       "    </tr>\n",
       "    <tr>\n",
       "      <th>3</th>\n",
       "      <td>jharkhand/2019/182470721.txt</td>\n",
       "      <td>NaN</td>\n",
       "      <td>Diwakar Das vs The State Of Jharkhand</td>\n",
       "      <td>2019-09-24</td>\n",
       "      <td>Jharkhand High Court</td>\n",
       "      <td>sarath p.s. case no. 199 of 2017, in which he ...</td>\n",
       "      <td></td>\n",
       "      <td>\\n             the state of jharkhand     ... ...</td>\n",
       "      <td>NaN</td>\n",
       "      <td>NaN</td>\n",
       "      <td>{mr. justice rongon mukhopadhyay}</td>\n",
       "      <td>NaN</td>\n",
       "      <td>{182470721}</td>\n",
       "    </tr>\n",
       "    <tr>\n",
       "      <th>4</th>\n",
       "      <td>jharkhand/2019/120756484.txt</td>\n",
       "      <td>NaN</td>\n",
       "      <td>Dinesh Kumar Bhagat vs The State Of Jharkhand ...</td>\n",
       "      <td>2019-02-14</td>\n",
       "      <td>Jharkhand High Court</td>\n",
       "      <td>objection case no. 1197 of 2016 by settlement ...</td>\n",
       "      <td></td>\n",
       "      <td></td>\n",
       "      <td>NaN</td>\n",
       "      <td>NaN</td>\n",
       "      <td>{mr. justice sujit narayan prasad}</td>\n",
       "      <td>NaN</td>\n",
       "      <td>{120756484}</td>\n",
       "    </tr>\n",
       "  </tbody>\n",
       "</table>\n",
       "<p>200 rows × 13 columns</p>\n",
       "</div>"
      ],
      "text/plain": [
       "                            file  cnr_num  \\\n",
       "0        bombay/2000/1001219.txt      NaN   \n",
       "1        bombay/2000/1004863.txt      NaN   \n",
       "2        bombay/2000/1007060.txt      NaN   \n",
       "3        bombay/2000/1007895.txt      NaN   \n",
       "4        bombay/2000/1011986.txt      NaN   \n",
       "..                           ...      ...   \n",
       "0    jharkhand/2019/58878664.txt      NaN   \n",
       "1    jharkhand/2019/97365126.txt      NaN   \n",
       "2    jharkhand/2019/80192852.txt      NaN   \n",
       "3   jharkhand/2019/182470721.txt      NaN   \n",
       "4   jharkhand/2019/120756484.txt      NaN   \n",
       "\n",
       "                                                title       date  \\\n",
       "0   Smt. Kamalabai Baburao Kabade vs Smt. Laxmibai... 2000-06-16   \n",
       "1   Shri Vasant Devlal Bhavsar vs Bar Council Of M... 2000-07-19   \n",
       "2   Chandrakant Bhalchandra Garware vs Anil Prabha... 2000-02-09   \n",
       "3   Trimbak S/O Waluba Sonwane vs The State Of Mah... 2000-02-29   \n",
       "4   Safruddin Abdul Majid Khan vs Mr. R.H. Mendonc... 2000-04-24   \n",
       "..                                                ...        ...   \n",
       "0            Survinder Kaur vs The State Of Jharkhand 2019-11-14   \n",
       "1   Their Workmen Represented By ... vs Employer I... 2019-11-28   \n",
       "2      Prashant Kumar Singh vs The State Of Jharkhand 2019-04-11   \n",
       "3               Diwakar Das vs The State Of Jharkhand 2019-09-24   \n",
       "4   Dinesh Kumar Bhagat vs The State Of Jharkhand ... 2019-02-14   \n",
       "\n",
       "                   court                                        case_number  \\\n",
       "0      Bombay High Court                                                NaN   \n",
       "1      Bombay High Court  2. one smt. s.v. vaishnav has lodged a complai...   \n",
       "2      Bombay High Court  the record and proceedings of the lower court ...   \n",
       "3      Bombay High Court  2. crime no. 143/96 came to be registered agai...   \n",
       "4      Bombay High Court                                                NaN   \n",
       "..                   ...                                                ...   \n",
       "0   Jharkhand High Court  apprehending her arrest in connection with orm...   \n",
       "1   Jharkhand High Court                                                NaN   \n",
       "2   Jharkhand High Court  jainagar p.s. case no.136 of 2018 (g.r. no. 63...   \n",
       "3   Jharkhand High Court  sarath p.s. case no. 199 of 2017, in which he ...   \n",
       "4   Jharkhand High Court  objection case no. 1197 of 2016 by settlement ...   \n",
       "\n",
       "   petitioner                                         respondent  \\\n",
       "0         NaN                                                NaN   \n",
       "1         NaN                                                NaN   \n",
       "2         NaN                                                NaN   \n",
       "3         NaN                                                NaN   \n",
       "4         NaN                                                NaN   \n",
       "..        ...                                                ...   \n",
       "0              \\n    the state of jharkhand          .... ......   \n",
       "1              \\n                   employer in relation to t...   \n",
       "2              \\n       the state of jharkhand               ...   \n",
       "3              \\n             the state of jharkhand     ... ...   \n",
       "4                                                                  \n",
       "\n",
       "   petitioner_advocate respondent_advocate  \\\n",
       "0                  NaN                 NaN   \n",
       "1                  NaN                 NaN   \n",
       "2                  NaN                 NaN   \n",
       "3                  NaN                 NaN   \n",
       "4                  NaN                 NaN   \n",
       "..                 ...                 ...   \n",
       "0                  NaN                 NaN   \n",
       "1                  NaN                 NaN   \n",
       "2                  NaN                 NaN   \n",
       "3                  NaN                 NaN   \n",
       "4                  NaN                 NaN   \n",
       "\n",
       "                                                judge banks  \\\n",
       "0                                      {A Khanwilkar}   NaN   \n",
       "1                              {A Shah, B Marlapalle}   NaN   \n",
       "2                                       {D Deshpande}   NaN   \n",
       "3                            {B Marlapalle, D Zoting}   NaN   \n",
       "4                                   {V Sahai, Kakade}   NaN   \n",
       "..                                                ...   ...   \n",
       "0                  {mr. justice anil kumar choudhary}   NaN   \n",
       "1   {the chief justice                            ...   NaN   \n",
       "2                  {mr. justice anil kumar choudhary}   NaN   \n",
       "3                   {mr. justice rongon mukhopadhyay}   NaN   \n",
       "4                  {mr. justice sujit narayan prasad}   NaN   \n",
       "\n",
       "                                            citations  \n",
       "0   {1331149, 1630779, 26690152, 1412634, 1001219,...  \n",
       "1         {1004863, 818009, 1439330, 1426050, 200474}  \n",
       "2   {1331149, 1915814, 1314827, 1227984, 1262371, ...  \n",
       "3   {1543073, 1712542, 810491, 1007895, 291822, 11...  \n",
       "4   {1011986, 313177, 16008, 1712542, 966422, 9151...  \n",
       "..                                                ...  \n",
       "0   {1976294, 58878664, 94452, 1436241, 1897847, 1...  \n",
       "1                                          {97365126}  \n",
       "2   {1985627, 1897847, 80192852, 556166, 1823824, ...  \n",
       "3                                         {182470721}  \n",
       "4                                         {120756484}  \n",
       "\n",
       "[200 rows x 13 columns]"
      ]
     },
     "execution_count": 5,
     "metadata": {},
     "output_type": "execute_result"
    }
   ],
   "source": [
    "courts = ['bombay', 'jharkhand']\n",
    "df = pd.DataFrame()\n",
    "\n",
    "start = time.time()\n",
    "\n",
    "for court in courts:\n",
    "    with zipfile.ZipFile(os.path.join(head, 'IK_data', court + '.zip'), 'r') as zip_folder:        \n",
    "        list_of_dfs = []\n",
    "        for year in range(2000, 2020):\n",
    "            list_of_textfiles = [textfile for textfile in zip_folder.namelist() if\n",
    "                                 textfile.startswith(f\"{court}/{year}/\") and textfile.endswith(\".txt\")]\n",
    "            df_court_year = de.extract_to_df(zip_folder, list_of_textfiles)\n",
    "            list_of_dfs.append(df_court_year)\n",
    "            print(f\"{court} court done for year {year} at time --- {(time.time() - start)} seconds ---\")\n",
    "        temp_df = pd.concat(list_of_dfs)\n",
    "        df = df.append(temp_df)\n",
    "\n",
    "\n",
    "print(f\"--- Total {(time.time() - start)} seconds ---\")  \n",
    "# takes ~1506 seconds for 500 limit break, takes 120s with 5 limit break and with court/year both iterated here.\n",
    "print(df.shape)\n",
    "df"
   ]
  },
  {
   "cell_type": "markdown",
   "metadata": {},
   "source": [
    "### With Multiprocessing"
   ]
  },
  {
   "cell_type": "code",
   "execution_count": 5,
   "metadata": {},
   "outputs": [
    {
     "name": "stdout",
     "output_type": "stream",
     "text": [
      "--- 34062.94619631767 seconds ---\n",
      "(624453, 13)\n"
     ]
    },
    {
     "data": {
      "text/html": [
       "<div>\n",
       "<style scoped>\n",
       "    .dataframe tbody tr th:only-of-type {\n",
       "        vertical-align: middle;\n",
       "    }\n",
       "\n",
       "    .dataframe tbody tr th {\n",
       "        vertical-align: top;\n",
       "    }\n",
       "\n",
       "    .dataframe thead th {\n",
       "        text-align: right;\n",
       "    }\n",
       "</style>\n",
       "<table border=\"1\" class=\"dataframe\">\n",
       "  <thead>\n",
       "    <tr style=\"text-align: right;\">\n",
       "      <th></th>\n",
       "      <th>file</th>\n",
       "      <th>cnr_num</th>\n",
       "      <th>title</th>\n",
       "      <th>date</th>\n",
       "      <th>court</th>\n",
       "      <th>case_number</th>\n",
       "      <th>petitioner</th>\n",
       "      <th>respondent</th>\n",
       "      <th>petitioner_advocate</th>\n",
       "      <th>respondent_advocate</th>\n",
       "      <th>judge</th>\n",
       "      <th>banks</th>\n",
       "      <th>citations</th>\n",
       "    </tr>\n",
       "  </thead>\n",
       "  <tbody>\n",
       "    <tr>\n",
       "      <th>0</th>\n",
       "      <td>bombay/2000/1001219.txt</td>\n",
       "      <td>NaN</td>\n",
       "      <td>Smt. Kamalabai Baburao Kabade vs Smt. Laxmibai...</td>\n",
       "      <td>2000-06-16</td>\n",
       "      <td>Bombay High Court</td>\n",
       "      <td>NaN</td>\n",
       "      <td>NaN</td>\n",
       "      <td>NaN</td>\n",
       "      <td>NaN</td>\n",
       "      <td>NaN</td>\n",
       "      <td>{A Khanwilkar}</td>\n",
       "      <td>NaN</td>\n",
       "      <td>{1001219, 173132957, 1630779, 135316600, 26690...</td>\n",
       "    </tr>\n",
       "    <tr>\n",
       "      <th>1</th>\n",
       "      <td>bombay/2000/1004863.txt</td>\n",
       "      <td>NaN</td>\n",
       "      <td>Shri Vasant Devlal Bhavsar vs Bar Council Of M...</td>\n",
       "      <td>2000-07-19</td>\n",
       "      <td>Bombay High Court</td>\n",
       "      <td>2. one smt. s.v. vaishnav has lodged a complai...</td>\n",
       "      <td>NaN</td>\n",
       "      <td>NaN</td>\n",
       "      <td>NaN</td>\n",
       "      <td>NaN</td>\n",
       "      <td>{A Shah, B Marlapalle}</td>\n",
       "      <td>NaN</td>\n",
       "      <td>{1426050, 200474, 1439330, 1004863, 818009}</td>\n",
       "    </tr>\n",
       "    <tr>\n",
       "      <th>2</th>\n",
       "      <td>bombay/2000/1007060.txt</td>\n",
       "      <td>NaN</td>\n",
       "      <td>Chandrakant Bhalchandra Garware vs Anil Prabha...</td>\n",
       "      <td>2000-02-09</td>\n",
       "      <td>Bombay High Court</td>\n",
       "      <td>the record and proceedings of the lower court ...</td>\n",
       "      <td>NaN</td>\n",
       "      <td>NaN</td>\n",
       "      <td>NaN</td>\n",
       "      <td>NaN</td>\n",
       "      <td>{D Deshpande}</td>\n",
       "      <td>NaN</td>\n",
       "      <td>{1227984, 1326950, 43650, 1915814, 103053, 105...</td>\n",
       "    </tr>\n",
       "    <tr>\n",
       "      <th>3</th>\n",
       "      <td>bombay/2000/1007895.txt</td>\n",
       "      <td>NaN</td>\n",
       "      <td>Trimbak S/O Waluba Sonwane vs The State Of Mah...</td>\n",
       "      <td>2000-02-29</td>\n",
       "      <td>Bombay High Court</td>\n",
       "      <td>2. crime no. 143/96 came to be registered agai...</td>\n",
       "      <td>NaN</td>\n",
       "      <td>NaN</td>\n",
       "      <td>NaN</td>\n",
       "      <td>NaN</td>\n",
       "      <td>{B Marlapalle, D Zoting}</td>\n",
       "      <td>NaN</td>\n",
       "      <td>{1039892, 1712542, 1543073, 11461, 1007895, 12...</td>\n",
       "    </tr>\n",
       "    <tr>\n",
       "      <th>4</th>\n",
       "      <td>bombay/2000/1011986.txt</td>\n",
       "      <td>NaN</td>\n",
       "      <td>Safruddin Abdul Majid Khan vs Mr. R.H. Mendonc...</td>\n",
       "      <td>2000-04-24</td>\n",
       "      <td>Bombay High Court</td>\n",
       "      <td>NaN</td>\n",
       "      <td>NaN</td>\n",
       "      <td>NaN</td>\n",
       "      <td>NaN</td>\n",
       "      <td>NaN</td>\n",
       "      <td>{V Sahai, Kakade}</td>\n",
       "      <td>NaN</td>\n",
       "      <td>{752609, 1011986, 966422, 222396, 1636171, 313...</td>\n",
       "    </tr>\n",
       "  </tbody>\n",
       "</table>\n",
       "</div>"
      ],
      "text/plain": [
       "                      file cnr_num  \\\n",
       "0  bombay/2000/1001219.txt     NaN   \n",
       "1  bombay/2000/1004863.txt     NaN   \n",
       "2  bombay/2000/1007060.txt     NaN   \n",
       "3  bombay/2000/1007895.txt     NaN   \n",
       "4  bombay/2000/1011986.txt     NaN   \n",
       "\n",
       "                                               title       date  \\\n",
       "0  Smt. Kamalabai Baburao Kabade vs Smt. Laxmibai... 2000-06-16   \n",
       "1  Shri Vasant Devlal Bhavsar vs Bar Council Of M... 2000-07-19   \n",
       "2  Chandrakant Bhalchandra Garware vs Anil Prabha... 2000-02-09   \n",
       "3  Trimbak S/O Waluba Sonwane vs The State Of Mah... 2000-02-29   \n",
       "4  Safruddin Abdul Majid Khan vs Mr. R.H. Mendonc... 2000-04-24   \n",
       "\n",
       "               court                                        case_number  \\\n",
       "0  Bombay High Court                                                NaN   \n",
       "1  Bombay High Court  2. one smt. s.v. vaishnav has lodged a complai...   \n",
       "2  Bombay High Court  the record and proceedings of the lower court ...   \n",
       "3  Bombay High Court  2. crime no. 143/96 came to be registered agai...   \n",
       "4  Bombay High Court                                                NaN   \n",
       "\n",
       "  petitioner respondent petitioner_advocate respondent_advocate  \\\n",
       "0        NaN        NaN                 NaN                 NaN   \n",
       "1        NaN        NaN                 NaN                 NaN   \n",
       "2        NaN        NaN                 NaN                 NaN   \n",
       "3        NaN        NaN                 NaN                 NaN   \n",
       "4        NaN        NaN                 NaN                 NaN   \n",
       "\n",
       "                      judge banks  \\\n",
       "0            {A Khanwilkar}   NaN   \n",
       "1    {A Shah, B Marlapalle}   NaN   \n",
       "2             {D Deshpande}   NaN   \n",
       "3  {B Marlapalle, D Zoting}   NaN   \n",
       "4         {V Sahai, Kakade}   NaN   \n",
       "\n",
       "                                           citations  \n",
       "0  {1001219, 173132957, 1630779, 135316600, 26690...  \n",
       "1        {1426050, 200474, 1439330, 1004863, 818009}  \n",
       "2  {1227984, 1326950, 43650, 1915814, 103053, 105...  \n",
       "3  {1039892, 1712542, 1543073, 11461, 1007895, 12...  \n",
       "4  {752609, 1011986, 966422, 222396, 1636171, 313...  "
      ]
     },
     "execution_count": 5,
     "metadata": {},
     "output_type": "execute_result"
    }
   ],
   "source": [
    "import importlib\n",
    "importlib.reload(ik)\n",
    "importlib.reload(de)\n",
    "from multiprocessing import Pool\n",
    "import defs\n",
    "\n",
    "\n",
    "if __name__ == '__main__':\n",
    "    start = time.time()\n",
    "    df = pd.DataFrame()\n",
    "\n",
    "    courts = ['bombay', 'jharkhand', 'chattisgarh']\n",
    "    dfs = []\n",
    "#     pool = Pool()\n",
    "#     results = pool.imap(de.extract_data, courts)      \n",
    "                \n",
    "    with concurrent.futures.ProcessPoolExecutor() as executor:\n",
    "        results = executor.map(de.extract_data, courts)\n",
    "\n",
    "    for result in results:\n",
    "#         print(type(result))\n",
    "#         dfs.append(pd.DataFrame(result))\n",
    "        df = df.append(result)\n",
    "\n",
    "# df = pd.concat(dfs)\n",
    "print(f\"--- {(time.time() - start)} seconds ---\")  \n",
    "# takes ~1506 seconds for 500 limit break; took ~4 hours or so for the MH, JH and CH\n",
    "print(df.shape)\n",
    "df.head()"
   ]
  },
  {
   "cell_type": "code",
   "execution_count": null,
   "metadata": {},
   "outputs": [
    {
     "name": "stdout",
     "output_type": "stream",
     "text": [
      "here1\n",
      "here2\n",
      "here3\n"
     ]
    }
   ],
   "source": [
    "courts = ['bombay', 'jharkhand']\n",
    "df = pd.DataFrame()\n",
    "start = time.time()\n",
    "\n",
    "if __name__ == '__main__':\n",
    "    for court in courts:\n",
    "        with zipfile.ZipFile(os.path.join(head, 'IK_data', court + '.zip'), 'r') as zip_folder:        \n",
    "            list_of_dfs = []\n",
    "            list_of_lists = []\n",
    "            for year in range(2000, 2020):\n",
    "                year_list = []\n",
    "                for textfile in zip_folder.namelist():\n",
    "                    if textfile.startswith(f\"{court}/{year}/\") and textfile.endswith(\".txt\"):\n",
    "                        year_list.append(textfile)\n",
    "                list_of_lists.append(year_list)\n",
    "            \n",
    "            with concurrent.futures.ProcessPoolExecutor() as executor:\n",
    "                args = ((zip_folder, year_list) for year_list in list_of_lists)\n",
    "                results = executor.map(lambda p: de.extract_to_df(*p), args)\n",
    "\n",
    "        \n",
    "print(f\"--- Total {(time.time() - start)} seconds ---\")  \n",
    "# takes ~1506 seconds for 500 limit break, takes 120s with 5 limit break and with court/year both iterated here.\n",
    "print(df.shape)\n",
    "df.head()"
   ]
  },
  {
   "cell_type": "code",
   "execution_count": 168,
   "metadata": {},
   "outputs": [
    {
     "ename": "AttributeError",
     "evalue": "'Pandas' object has no attribute 'case_id'",
     "output_type": "error",
     "traceback": [
      "\u001b[1;31m---------------------------------------------------------------------------\u001b[0m",
      "\u001b[1;31mAttributeError\u001b[0m                            Traceback (most recent call last)",
      "\u001b[1;32m<ipython-input-168-46cba7545fc2>\u001b[0m in \u001b[0;36m<module>\u001b[1;34m\u001b[0m\n\u001b[0;32m     11\u001b[0m     \u001b[1;32mreturn\u001b[0m \u001b[0mcitation_counts\u001b[0m\u001b[1;33m\u001b[0m\u001b[1;33m\u001b[0m\u001b[0m\n\u001b[0;32m     12\u001b[0m \u001b[1;33m\u001b[0m\u001b[0m\n\u001b[1;32m---> 13\u001b[1;33m \u001b[0mcitation_counts\u001b[0m \u001b[1;33m=\u001b[0m \u001b[0mcitation_count_dict\u001b[0m\u001b[1;33m(\u001b[0m\u001b[0mdf2\u001b[0m\u001b[1;33m)\u001b[0m\u001b[1;33m\u001b[0m\u001b[1;33m\u001b[0m\u001b[0m\n\u001b[0m",
      "\u001b[1;32m<ipython-input-168-46cba7545fc2>\u001b[0m in \u001b[0;36mcitation_count_dict\u001b[1;34m(df)\u001b[0m\n\u001b[0;32m      5\u001b[0m         \u001b[1;32mif\u001b[0m \u001b[0mstr\u001b[0m\u001b[1;33m(\u001b[0m\u001b[0mrow\u001b[0m\u001b[1;33m.\u001b[0m\u001b[0mcitations\u001b[0m\u001b[1;33m)\u001b[0m \u001b[1;33m!=\u001b[0m \u001b[1;34m'nan'\u001b[0m\u001b[1;33m:\u001b[0m\u001b[1;33m\u001b[0m\u001b[1;33m\u001b[0m\u001b[0m\n\u001b[0;32m      6\u001b[0m             \u001b[1;32mfor\u001b[0m \u001b[0mcitation\u001b[0m \u001b[1;32min\u001b[0m \u001b[0mrow\u001b[0m\u001b[1;33m.\u001b[0m\u001b[0mcitations\u001b[0m\u001b[1;33m:\u001b[0m\u001b[1;33m\u001b[0m\u001b[1;33m\u001b[0m\u001b[0m\n\u001b[1;32m----> 7\u001b[1;33m                 \u001b[1;32mif\u001b[0m \u001b[0mcitation\u001b[0m \u001b[1;33m!=\u001b[0m \u001b[0mrow\u001b[0m\u001b[1;33m.\u001b[0m\u001b[0mcase_id\u001b[0m\u001b[1;33m:\u001b[0m\u001b[1;33m\u001b[0m\u001b[1;33m\u001b[0m\u001b[0m\n\u001b[0m\u001b[0;32m      8\u001b[0m                     \u001b[0mcitation_counts\u001b[0m\u001b[1;33m[\u001b[0m\u001b[0mcitation\u001b[0m\u001b[1;33m]\u001b[0m \u001b[1;33m+=\u001b[0m \u001b[1;36m1\u001b[0m\u001b[1;33m\u001b[0m\u001b[1;33m\u001b[0m\u001b[0m\n\u001b[0;32m      9\u001b[0m             \u001b[0mrow\u001b[0m\u001b[1;33m.\u001b[0m\u001b[0mcitations\u001b[0m\u001b[1;33m.\u001b[0m\u001b[0mdiscard\u001b[0m\u001b[1;33m(\u001b[0m\u001b[0mrow\u001b[0m\u001b[1;33m.\u001b[0m\u001b[0mcase_id\u001b[0m\u001b[1;33m)\u001b[0m\u001b[1;33m\u001b[0m\u001b[1;33m\u001b[0m\u001b[0m\n",
      "\u001b[1;31mAttributeError\u001b[0m: 'Pandas' object has no attribute 'case_id'"
     ]
    }
   ],
   "source": [
    "def citation_count_dict(df):\n",
    "    citation_counts = defaultdict(int)\n",
    "\n",
    "    for row in df.itertuples():\n",
    "        if str(row.citations) != 'nan':\n",
    "            for citation in row.citations:\n",
    "                if citation != row.case_id:\n",
    "                    citation_counts[citation] += 1\n",
    "            row.citations.discard(row.case_id)\n",
    "            \n",
    "    return citation_counts\n",
    "\n",
    "citation_counts = citation_count_dict(df2)"
   ]
  },
  {
   "cell_type": "code",
   "execution_count": 53,
   "metadata": {},
   "outputs": [
    {
     "data": {
      "text/html": [
       "<div>\n",
       "<style scoped>\n",
       "    .dataframe tbody tr th:only-of-type {\n",
       "        vertical-align: middle;\n",
       "    }\n",
       "\n",
       "    .dataframe tbody tr th {\n",
       "        vertical-align: top;\n",
       "    }\n",
       "\n",
       "    .dataframe thead th {\n",
       "        text-align: right;\n",
       "    }\n",
       "</style>\n",
       "<table border=\"1\" class=\"dataframe\">\n",
       "  <thead>\n",
       "    <tr style=\"text-align: right;\">\n",
       "      <th></th>\n",
       "      <th>file</th>\n",
       "      <th>cnr_num</th>\n",
       "      <th>title</th>\n",
       "      <th>date</th>\n",
       "      <th>court</th>\n",
       "      <th>case_number</th>\n",
       "      <th>petitioner</th>\n",
       "      <th>respondent</th>\n",
       "      <th>petitioner_advocate</th>\n",
       "      <th>respondent_advocate</th>\n",
       "      <th>judge</th>\n",
       "      <th>banks</th>\n",
       "      <th>citations</th>\n",
       "      <th>bench_size</th>\n",
       "      <th>num_citations</th>\n",
       "      <th>chief_justice</th>\n",
       "      <th>state</th>\n",
       "      <th>business</th>\n",
       "      <th>case_id</th>\n",
       "      <th>times_cited</th>\n",
       "    </tr>\n",
       "  </thead>\n",
       "  <tbody>\n",
       "    <tr>\n",
       "      <th>0</th>\n",
       "      <td>bombay/2000/1001219.txt</td>\n",
       "      <td>NaN</td>\n",
       "      <td>Smt. Kamalabai Baburao Kabade vs Smt. Laxmibai...</td>\n",
       "      <td>2000-06-16</td>\n",
       "      <td>Bombay High Court</td>\n",
       "      <td>NaN</td>\n",
       "      <td>NaN</td>\n",
       "      <td>NaN</td>\n",
       "      <td>NaN</td>\n",
       "      <td>NaN</td>\n",
       "      <td>{A Khanwilkar}</td>\n",
       "      <td>NaN</td>\n",
       "      <td>{1630779, 1331149, 1108515, 135316600, 1412634...</td>\n",
       "      <td>1.0</td>\n",
       "      <td>7.0</td>\n",
       "      <td>False</td>\n",
       "      <td>False</td>\n",
       "      <td>NaN</td>\n",
       "      <td>1001219</td>\n",
       "      <td>6</td>\n",
       "    </tr>\n",
       "    <tr>\n",
       "      <th>1</th>\n",
       "      <td>bombay/2000/1004863.txt</td>\n",
       "      <td>NaN</td>\n",
       "      <td>Shri Vasant Devlal Bhavsar vs Bar Council Of M...</td>\n",
       "      <td>2000-07-19</td>\n",
       "      <td>Bombay High Court</td>\n",
       "      <td>2. one smt. s.v. vaishnav has lodged a complai...</td>\n",
       "      <td>NaN</td>\n",
       "      <td>NaN</td>\n",
       "      <td>NaN</td>\n",
       "      <td>NaN</td>\n",
       "      <td>{A Shah, B Marlapalle}</td>\n",
       "      <td>NaN</td>\n",
       "      <td>{818009, 1439330, 1426050, 200474}</td>\n",
       "      <td>1.0</td>\n",
       "      <td>4.0</td>\n",
       "      <td>False</td>\n",
       "      <td>False</td>\n",
       "      <td>NaN</td>\n",
       "      <td>1004863</td>\n",
       "      <td>0</td>\n",
       "    </tr>\n",
       "    <tr>\n",
       "      <th>2</th>\n",
       "      <td>bombay/2000/1007060.txt</td>\n",
       "      <td>NaN</td>\n",
       "      <td>Chandrakant Bhalchandra Garware vs Anil Prabha...</td>\n",
       "      <td>2000-02-09</td>\n",
       "      <td>Bombay High Court</td>\n",
       "      <td>the record and proceedings of the lower court ...</td>\n",
       "      <td>NaN</td>\n",
       "      <td>NaN</td>\n",
       "      <td>NaN</td>\n",
       "      <td>NaN</td>\n",
       "      <td>{D Deshpande}</td>\n",
       "      <td>NaN</td>\n",
       "      <td>{1953529, 487818, 1038208, 1326950, 1227984, 1...</td>\n",
       "      <td>1.0</td>\n",
       "      <td>16.0</td>\n",
       "      <td>False</td>\n",
       "      <td>False</td>\n",
       "      <td>NaN</td>\n",
       "      <td>1007060</td>\n",
       "      <td>0</td>\n",
       "    </tr>\n",
       "    <tr>\n",
       "      <th>3</th>\n",
       "      <td>bombay/2000/1007895.txt</td>\n",
       "      <td>NaN</td>\n",
       "      <td>Trimbak S/O Waluba Sonwane vs The State Of Mah...</td>\n",
       "      <td>2000-02-29</td>\n",
       "      <td>Bombay High Court</td>\n",
       "      <td>2. crime no. 143/96 came to be registered agai...</td>\n",
       "      <td>NaN</td>\n",
       "      <td>NaN</td>\n",
       "      <td>NaN</td>\n",
       "      <td>NaN</td>\n",
       "      <td>{B Marlapalle, D Zoting}</td>\n",
       "      <td>NaN</td>\n",
       "      <td>{142278, 11461, 1228265, 1290514, 1712542, 119...</td>\n",
       "      <td>1.0</td>\n",
       "      <td>12.0</td>\n",
       "      <td>False</td>\n",
       "      <td>True</td>\n",
       "      <td>NaN</td>\n",
       "      <td>1007895</td>\n",
       "      <td>0</td>\n",
       "    </tr>\n",
       "    <tr>\n",
       "      <th>4</th>\n",
       "      <td>bombay/2000/1011986.txt</td>\n",
       "      <td>NaN</td>\n",
       "      <td>Safruddin Abdul Majid Khan vs Mr. R.H. Mendonc...</td>\n",
       "      <td>2000-04-24</td>\n",
       "      <td>Bombay High Court</td>\n",
       "      <td>NaN</td>\n",
       "      <td>NaN</td>\n",
       "      <td>NaN</td>\n",
       "      <td>NaN</td>\n",
       "      <td>NaN</td>\n",
       "      <td>{V Sahai, Kakade}</td>\n",
       "      <td>NaN</td>\n",
       "      <td>{915147, 1712542, 752609, 578299, 16008, 21227...</td>\n",
       "      <td>1.0</td>\n",
       "      <td>15.0</td>\n",
       "      <td>False</td>\n",
       "      <td>True</td>\n",
       "      <td>NaN</td>\n",
       "      <td>1011986</td>\n",
       "      <td>3</td>\n",
       "    </tr>\n",
       "  </tbody>\n",
       "</table>\n",
       "</div>"
      ],
      "text/plain": [
       "                      file cnr_num  \\\n",
       "0  bombay/2000/1001219.txt     NaN   \n",
       "1  bombay/2000/1004863.txt     NaN   \n",
       "2  bombay/2000/1007060.txt     NaN   \n",
       "3  bombay/2000/1007895.txt     NaN   \n",
       "4  bombay/2000/1011986.txt     NaN   \n",
       "\n",
       "                                               title       date  \\\n",
       "0  Smt. Kamalabai Baburao Kabade vs Smt. Laxmibai... 2000-06-16   \n",
       "1  Shri Vasant Devlal Bhavsar vs Bar Council Of M... 2000-07-19   \n",
       "2  Chandrakant Bhalchandra Garware vs Anil Prabha... 2000-02-09   \n",
       "3  Trimbak S/O Waluba Sonwane vs The State Of Mah... 2000-02-29   \n",
       "4  Safruddin Abdul Majid Khan vs Mr. R.H. Mendonc... 2000-04-24   \n",
       "\n",
       "               court                                        case_number  \\\n",
       "0  Bombay High Court                                                NaN   \n",
       "1  Bombay High Court  2. one smt. s.v. vaishnav has lodged a complai...   \n",
       "2  Bombay High Court  the record and proceedings of the lower court ...   \n",
       "3  Bombay High Court  2. crime no. 143/96 came to be registered agai...   \n",
       "4  Bombay High Court                                                NaN   \n",
       "\n",
       "  petitioner respondent petitioner_advocate respondent_advocate  \\\n",
       "0        NaN        NaN                 NaN                 NaN   \n",
       "1        NaN        NaN                 NaN                 NaN   \n",
       "2        NaN        NaN                 NaN                 NaN   \n",
       "3        NaN        NaN                 NaN                 NaN   \n",
       "4        NaN        NaN                 NaN                 NaN   \n",
       "\n",
       "                      judge banks  \\\n",
       "0            {A Khanwilkar}   NaN   \n",
       "1    {A Shah, B Marlapalle}   NaN   \n",
       "2             {D Deshpande}   NaN   \n",
       "3  {B Marlapalle, D Zoting}   NaN   \n",
       "4         {V Sahai, Kakade}   NaN   \n",
       "\n",
       "                                           citations  bench_size  \\\n",
       "0  {1630779, 1331149, 1108515, 135316600, 1412634...         1.0   \n",
       "1                 {818009, 1439330, 1426050, 200474}         1.0   \n",
       "2  {1953529, 487818, 1038208, 1326950, 1227984, 1...         1.0   \n",
       "3  {142278, 11461, 1228265, 1290514, 1712542, 119...         1.0   \n",
       "4  {915147, 1712542, 752609, 578299, 16008, 21227...         1.0   \n",
       "\n",
       "   num_citations chief_justice  state business  case_id  times_cited  \n",
       "0            7.0         False  False      NaN  1001219            6  \n",
       "1            4.0         False  False      NaN  1004863            0  \n",
       "2           16.0         False  False      NaN  1007060            0  \n",
       "3           12.0         False   True      NaN  1007895            0  \n",
       "4           15.0         False   True      NaN  1011986            3  "
      ]
     },
     "execution_count": 53,
     "metadata": {},
     "output_type": "execute_result"
    }
   ],
   "source": [
    "df.reset_index(drop=True, inplace=True)\n",
    "df['case_id'] = df['file'].apply(lambda x: x[x.rfind('/')+1:-4]) \n",
    "\n",
    "df['times_cited'] = df['case_id'].apply(lambda x: citation_counts.get(x, 0))\n",
    "\n",
    "df['bench_size'] = df.loc[:,'judge'].dropna().apply(len)\n",
    "\n",
    "\n",
    "        \n",
    "df['num_citations'] = df.loc[:,'citations'].dropna().apply(len)\n",
    "\n",
    "df['chief_justice'] = df.loc[:,'judge'].dropna().apply(lambda x: (any('chief' in item for item in x)))\n",
    "\n",
    "keywords_state = ['state', 'government', 'commissioner', 'national', 'india', 'indian', 'public', 'magistrate',\n",
    "                  'collector', 'department', 'district']\n",
    "df['state'] = df.loc[:,'title'].dropna().apply(lambda x: (any(keyword in x.lower() for keyword in keywords_state)))\n",
    "\n",
    "keywords_business = ['pvt', 'private', 'limited', 'ltd', 'company', 'co.', 'llp', 'llc']\n",
    "df['business'] = (df.loc[:,'petitioner']+df.loc[:,'respondent']).dropna().apply(lambda x: (any(keyword in x.lower() for keyword in keywords_business)))\n",
    "\n",
    "keywords_male = ['shri', 'mr.', 'master']\n",
    "\n",
    "df.replace('\\n', ' ', regex = True, inplace = True)\n",
    "df.head()"
   ]
  },
  {
   "cell_type": "code",
   "execution_count": 178,
   "metadata": {},
   "outputs": [],
   "source": [
    "df.to_pickle('df_7courts.pkl')"
   ]
  },
  {
   "cell_type": "code",
   "execution_count": 162,
   "metadata": {},
   "outputs": [],
   "source": [
    "df = pd.read_pickle('df_mhjhch.pkl')"
   ]
  },
  {
   "cell_type": "code",
   "execution_count": 177,
   "metadata": {},
   "outputs": [
    {
     "data": {
      "text/plain": [
       "Jharkhand High Court          338969\n",
       "Allahabad High Court          228124\n",
       "Bombay High Court             221571\n",
       "Gauhati High Court             64640\n",
       "Chattisgarh High Court         59361\n",
       "Jammu & Kashmir High Court     36713\n",
       "Andhra High Court              14263\n",
       "Name: court, dtype: int64"
      ]
     },
     "execution_count": 177,
     "metadata": {},
     "output_type": "execute_result"
    }
   ],
   "source": [
    "# df2.reset_index(drop=True, inplace=True)\n",
    "\n",
    "# df2['bench_size'] = df2.loc[:,'judge'].dropna().apply(len)\n",
    "\n",
    "\n",
    "        \n",
    "# df2['num_citations'] = df2.loc[:,'citations'].dropna().apply(len)\n",
    "\n",
    "# df2['chief_justice'] = df2.loc[:,'judge'].dropna().apply(lambda x: (any('chief' in item for item in x)))\n",
    "\n",
    "# keywords_state = ['state', 'government', 'commissioner', 'national', 'india', 'indian', 'public', 'magistrate',\n",
    "#                   'collector', 'department', 'district']\n",
    "# df2['state'] = df2.loc[:,'title'].dropna().apply(lambda x: (any(keyword in x.lower() for keyword in keywords_state)))\n",
    "\n",
    "# keywords_business = ['pvt', 'private', 'limited', 'ltd', 'company', 'co.', 'llp', 'llc']\n",
    "# df2['business'] = (df2.loc[:,'petitioner']+df2.loc[:,'respondent']).dropna().apply(lambda x: (any(keyword in x.lower() for keyword in keywords_business)))\n",
    "\n",
    "df.court.value_counts()"
   ]
  },
  {
   "cell_type": "markdown",
   "metadata": {},
   "source": [
    "The number of missing values. Try and get this to around 85-90% and above to proceed. Judges we are extracting at a reasonable accuracy. Next step is to optimize advocates but that is a lot more difficult. Will have to try NER or other approaches. "
   ]
  },
  {
   "cell_type": "code",
   "execution_count": 7,
   "metadata": {},
   "outputs": [
    {
     "data": {
      "text/plain": [
       "file                        0\n",
       "cnr_num                624452\n",
       "title                    4552\n",
       "date                     4552\n",
       "court                    4552\n",
       "case_number            491698\n",
       "petitioner             180917\n",
       "respondent             180917\n",
       "petitioner_advocate    600972\n",
       "respondent_advocate    622160\n",
       "judge                   20879\n",
       "banks                  608455\n",
       "citations                4540\n",
       "bench_size              20879\n",
       "num_citations            4540\n",
       "chief_justice           20879\n",
       "state                    4552\n",
       "business               180917\n",
       "dtype: int64"
      ]
     },
     "execution_count": 7,
     "metadata": {},
     "output_type": "execute_result"
    }
   ],
   "source": [
    "df.isna().sum()"
   ]
  },
  {
   "cell_type": "code",
   "execution_count": 6,
   "metadata": {},
   "outputs": [
    {
     "data": {
      "text/plain": [
       "<matplotlib.axes._subplots.AxesSubplot at 0x1d3cbf2b508>"
      ]
     },
     "execution_count": 6,
     "metadata": {},
     "output_type": "execute_result"
    },
    {
     "data": {
      "image/png": "[encoded data removed]",
      "text/plain": [
       "<Figure size 1440x576 with 1 Axes>"
      ]
     },
     "metadata": {
      "needs_background": "light"
     },
     "output_type": "display_data"
    }
   ],
   "source": [
    "mean_citations_monthly = pd.DataFrame(df.groupby(df[df.date>\"2000-01-01\"].date.dt.strftime('%Y'))['num_citations'].mean())\n",
    "mean_citations_monthly.plot(figsize=(20,8))"
   ]
  },
  {
   "cell_type": "code",
   "execution_count": 7,
   "metadata": {},
   "outputs": [
    {
     "data": {
      "text/plain": [
       "<matplotlib.axes._subplots.AxesSubplot at 0x1d3cbf2ba88>"
      ]
     },
     "execution_count": 7,
     "metadata": {},
     "output_type": "execute_result"
    },
    {
     "data": {
      "image/png": "[encoded data removed]",
      "text/plain": [
       "<Figure size 1440x576 with 1 Axes>"
      ]
     },
     "metadata": {
      "needs_background": "light"
     },
     "output_type": "display_data"
    }
   ],
   "source": [
    "cases_by_time = pd.DataFrame(df.groupby(df[df.date>\"2000-01-01\"].date.dt.strftime('%Y')).size())\n",
    "cases_by_time.columns = ['number_of_cases']\n",
    "cases_by_time.plot(figsize=(20,8))"
   ]
  },
  {
   "cell_type": "code",
   "execution_count": 36,
   "metadata": {},
   "outputs": [
    {
     "data": {
      "text/plain": [
       "Text(0, 0.5, 'Mean Number of Citations per Case by Year')"
      ]
     },
     "execution_count": 36,
     "metadata": {},
     "output_type": "execute_result"
    },
    {
     "data": {
      "image/png": "[encoded data removed]",
      "text/plain": [
       "<Figure size 1440x576 with 2 Axes>"
      ]
     },
     "metadata": {
      "needs_background": "light"
     },
     "output_type": "display_data"
    }
   ],
   "source": [
    "import matplotlib.pyplot as plt\n",
    "\n",
    "fig, ax = plt.subplots()\n",
    "cases_by_time.plot(figsize=(20,8), ax=ax)\n",
    "ax.set_ylabel(\"Total Number of Cases\")\n",
    "\n",
    "mean_citations_monthly.plot(figsize=(20,8), secondary_y=True, ax=ax, title='Number of Cases and Mean Citations by Year')\n",
    "plt.ylabel(\"Mean Number of Citations per Case by Year\")"
   ]
  },
  {
   "cell_type": "code",
   "execution_count": 41,
   "metadata": {},
   "outputs": [
    {
     "data": {
      "text/plain": [
       "Text(0, 0.5, 'Mean number of citations per case by Year')"
      ]
     },
     "execution_count": 41,
     "metadata": {},
     "output_type": "execute_result"
    },
    {
     "data": {
      "image/png": "[encoded data removed]",
      "text/plain": [
       "<Figure size 1440x576 with 1 Axes>"
      ]
     },
     "metadata": {
      "needs_background": "light"
     },
     "output_type": "display_data"
    }
   ],
   "source": [
    "citations_by_court_year = df\n",
    "citations_by_court_year.index = pd.to_datetime(citations_by_court_year.date.dt.strftime('%Y'), format='%Y')\n",
    "plot2 = citations_by_court_year.pivot_table(index = citations_by_court_year.index,columns='court',values='num_citations',aggfunc='mean').plot(figsize=(20,8), title=\"Mean Number of Citations By Year Across Courts\")\n",
    "plot2.set_ylabel(\"Mean number of citations per case by Year\")"
   ]
  },
  {
   "cell_type": "code",
   "execution_count": 43,
   "metadata": {},
   "outputs": [
    {
     "data": {
      "text/plain": [
       "Text(0, 0.5, 'Total Number of Cases')"
      ]
     },
     "execution_count": 43,
     "metadata": {},
     "output_type": "execute_result"
    },
    {
     "data": {
      "image/png": "[encoded data removed]",
      "text/plain": [
       "<Figure size 1440x576 with 1 Axes>"
      ]
     },
     "metadata": {
      "needs_background": "light"
     },
     "output_type": "display_data"
    }
   ],
   "source": [
    "cases_by_court_year = df\n",
    "cases_by_court_year.index = pd.to_datetime(cases_by_court_year.date.dt.strftime('%Y'), format='%Y')\n",
    "plot3 = cases_by_court_year.pivot_table(index = cases_by_court_year.index,columns='court',values='num_citations',aggfunc='count').plot(figsize=(20,8))\n",
    "plot3.set_ylabel(\"Total Number of Cases\")"
   ]
  },
  {
   "cell_type": "code",
   "execution_count": 44,
   "metadata": {},
   "outputs": [
    {
     "data": {
      "text/plain": [
       "date\n",
       "2000       978\n",
       "2001      1761\n",
       "2002      2507\n",
       "2003      2558\n",
       "2004      2451\n",
       "2005      2386\n",
       "2006      2517\n",
       "2007      2321\n",
       "2008      2437\n",
       "2009      5106\n",
       "2010      4381\n",
       "2011     28314\n",
       "2012     30830\n",
       "2013     22247\n",
       "2014     31501\n",
       "2015     44862\n",
       "2016     67248\n",
       "2017     82690\n",
       "2018    114575\n",
       "2019    168231\n",
       "dtype: int64"
      ]
     },
     "execution_count": 44,
     "metadata": {},
     "output_type": "execute_result"
    }
   ],
   "source": [
    "df.groupby(df.date.dt.strftime('%Y')).size()"
   ]
  },
  {
   "cell_type": "code",
   "execution_count": 47,
   "metadata": {},
   "outputs": [
    {
     "data": {
      "text/plain": [
       "court\n",
       "Bombay High Court         221571\n",
       "Chattisgarh High Court     59361\n",
       "Jharkhand High Court      338969\n",
       "dtype: int64"
      ]
     },
     "execution_count": 47,
     "metadata": {},
     "output_type": "execute_result"
    }
   ],
   "source": [
    "df.groupby('court').size()"
   ]
  },
  {
   "cell_type": "code",
   "execution_count": 16,
   "metadata": {},
   "outputs": [],
   "source": [
    "from textdistance import smith_waterman, needleman_wunsch, jaro_winkler, jaccard, levenshtein\n",
    "\n",
    "judges_dict = defaultdict(int)\n",
    "for judge_set in df['judge']:\n",
    "    if str(judge_set)!='nan':\n",
    "        for judge in judge_set:\n",
    "            judges_dict[judge] += 1\n",
    "        "
   ]
  },
  {
   "cell_type": "code",
   "execution_count": 17,
   "metadata": {},
   "outputs": [
    {
     "name": "stdout",
     "output_type": "stream",
     "text": [
      "15415\n",
      "13784\n"
     ]
    }
   ],
   "source": [
    "print(len(judges_dict))        \n",
    "\n",
    "for judge_pair in itertools.combinations(judges_dict, 2):\n",
    "    score = jaccard.normalized_similarity(judge_pair[0], judge_pair[1])\n",
    "    if score>0.95:\n",
    "        carryover = judges_dict.pop(judge_pair[1], 0)\n",
    "        judges_dict[judge_pair[0]] += carryover\n",
    "\n",
    "print(len(judges_dict))"
   ]
  },
  {
   "cell_type": "markdown",
   "metadata": {},
   "source": [
    "15415 entries trimmed to 13784 judges after merging similar key values above."
   ]
  },
  {
   "cell_type": "markdown",
   "metadata": {},
   "source": [
    "## Forward Citations\n",
    "I think cases after 2009 were uploaded as they were put up online by the courts as Sushant I believe said he had a daily crawler. In that case we do not have a pre period to compare the pre vs post putting the case up on IK. What we could do instead is to check the pre vs post for cases before 2009 when IK did not exist. For these older cases we can check their average citations before IK and then after to see if there exists any jump. However, the problem here is the very small number of cases we have for years before 2009. "
   ]
  },
  {
   "cell_type": "code",
   "execution_count": 64,
   "metadata": {},
   "outputs": [
    {
     "name": "stdout",
     "output_type": "stream",
     "text": [
      "2000\n"
     ]
    }
   ],
   "source": [
    "pre2009cases = df[df.date.dt.year<2009].case_id.to_list()\n",
    "\n",
    "for case in pre2009cases:\n",
    "    for row in df.itertuples():\n",
    "        print(row.date.year)\n",
    "        break"
   ]
  },
  {
   "cell_type": "code",
   "execution_count": 73,
   "metadata": {},
   "outputs": [
    {
     "data": {
      "text/plain": [
       "1137181"
      ]
     },
     "execution_count": 73,
     "metadata": {},
     "output_type": "execute_result"
    }
   ],
   "source": [
    "sum(citation_counts.values())"
   ]
  },
  {
   "cell_type": "markdown",
   "metadata": {},
   "source": [
    "## Citation Diversity"
   ]
  },
  {
   "cell_type": "code",
   "execution_count": 105,
   "metadata": {},
   "outputs": [
    {
     "data": {
      "text/plain": [
       "array([0.1, 9.5, 0.1, ..., 0.1, 0.1, 0.1])"
      ]
     },
     "execution_count": 105,
     "metadata": {},
     "output_type": "execute_result"
    }
   ],
   "source": [
    "np.array(list(citation_count_dict(df.loc[df.date.dt.year==2000,:]).values()))/10 "
   ]
  },
  {
   "cell_type": "code",
   "execution_count": 98,
   "metadata": {},
   "outputs": [
    {
     "name": "stdout",
     "output_type": "stream",
     "text": [
      "[1 2 3]\n"
     ]
    },
    {
     "data": {
      "text/plain": [
       "array([1., 4., 9.])"
      ]
     },
     "execution_count": 98,
     "metadata": {},
     "output_type": "execute_result"
    }
   ],
   "source": [
    "a = [1,2,3]\n",
    "b = np.array(a)\n",
    "print(b)\n",
    "(b/1)*b"
   ]
  },
  {
   "cell_type": "code",
   "execution_count": 154,
   "metadata": {},
   "outputs": [
    {
     "data": {
      "text/html": [
       "<div>\n",
       "<style scoped>\n",
       "    .dataframe tbody tr th:only-of-type {\n",
       "        vertical-align: middle;\n",
       "    }\n",
       "\n",
       "    .dataframe tbody tr th {\n",
       "        vertical-align: top;\n",
       "    }\n",
       "\n",
       "    .dataframe thead th {\n",
       "        text-align: right;\n",
       "    }\n",
       "</style>\n",
       "<table border=\"1\" class=\"dataframe\">\n",
       "  <thead>\n",
       "    <tr style=\"text-align: right;\">\n",
       "      <th></th>\n",
       "      <th>year</th>\n",
       "      <th>citation_diversity_index</th>\n",
       "    </tr>\n",
       "    <tr>\n",
       "      <th>year</th>\n",
       "      <th></th>\n",
       "      <th></th>\n",
       "    </tr>\n",
       "  </thead>\n",
       "  <tbody>\n",
       "    <tr>\n",
       "      <th>2000</th>\n",
       "      <td>2000</td>\n",
       "      <td>0.001151</td>\n",
       "    </tr>\n",
       "    <tr>\n",
       "      <th>2001</th>\n",
       "      <td>2001</td>\n",
       "      <td>0.000921</td>\n",
       "    </tr>\n",
       "    <tr>\n",
       "      <th>2002</th>\n",
       "      <td>2002</td>\n",
       "      <td>0.001033</td>\n",
       "    </tr>\n",
       "    <tr>\n",
       "      <th>2003</th>\n",
       "      <td>2003</td>\n",
       "      <td>0.000786</td>\n",
       "    </tr>\n",
       "    <tr>\n",
       "      <th>2004</th>\n",
       "      <td>2004</td>\n",
       "      <td>0.000841</td>\n",
       "    </tr>\n",
       "    <tr>\n",
       "      <th>2005</th>\n",
       "      <td>2005</td>\n",
       "      <td>0.000831</td>\n",
       "    </tr>\n",
       "    <tr>\n",
       "      <th>2006</th>\n",
       "      <td>2006</td>\n",
       "      <td>0.000760</td>\n",
       "    </tr>\n",
       "    <tr>\n",
       "      <th>2007</th>\n",
       "      <td>2007</td>\n",
       "      <td>0.000768</td>\n",
       "    </tr>\n",
       "    <tr>\n",
       "      <th>2008</th>\n",
       "      <td>2008</td>\n",
       "      <td>0.000994</td>\n",
       "    </tr>\n",
       "    <tr>\n",
       "      <th>2009</th>\n",
       "      <td>2009</td>\n",
       "      <td>0.002030</td>\n",
       "    </tr>\n",
       "    <tr>\n",
       "      <th>2010</th>\n",
       "      <td>2010</td>\n",
       "      <td>0.001507</td>\n",
       "    </tr>\n",
       "    <tr>\n",
       "      <th>2011</th>\n",
       "      <td>2011</td>\n",
       "      <td>0.001759</td>\n",
       "    </tr>\n",
       "    <tr>\n",
       "      <th>2012</th>\n",
       "      <td>2012</td>\n",
       "      <td>0.001856</td>\n",
       "    </tr>\n",
       "    <tr>\n",
       "      <th>2013</th>\n",
       "      <td>2013</td>\n",
       "      <td>0.001781</td>\n",
       "    </tr>\n",
       "    <tr>\n",
       "      <th>2014</th>\n",
       "      <td>2014</td>\n",
       "      <td>0.001367</td>\n",
       "    </tr>\n",
       "    <tr>\n",
       "      <th>2015</th>\n",
       "      <td>2015</td>\n",
       "      <td>0.001390</td>\n",
       "    </tr>\n",
       "    <tr>\n",
       "      <th>2016</th>\n",
       "      <td>2016</td>\n",
       "      <td>0.001893</td>\n",
       "    </tr>\n",
       "    <tr>\n",
       "      <th>2017</th>\n",
       "      <td>2017</td>\n",
       "      <td>0.002409</td>\n",
       "    </tr>\n",
       "    <tr>\n",
       "      <th>2018</th>\n",
       "      <td>2018</td>\n",
       "      <td>0.003306</td>\n",
       "    </tr>\n",
       "    <tr>\n",
       "      <th>2019</th>\n",
       "      <td>2019</td>\n",
       "      <td>0.003605</td>\n",
       "    </tr>\n",
       "  </tbody>\n",
       "</table>\n",
       "</div>"
      ],
      "text/plain": [
       "      year  citation_diversity_index\n",
       "year                                \n",
       "2000  2000                  0.001151\n",
       "2001  2001                  0.000921\n",
       "2002  2002                  0.001033\n",
       "2003  2003                  0.000786\n",
       "2004  2004                  0.000841\n",
       "2005  2005                  0.000831\n",
       "2006  2006                  0.000760\n",
       "2007  2007                  0.000768\n",
       "2008  2008                  0.000994\n",
       "2009  2009                  0.002030\n",
       "2010  2010                  0.001507\n",
       "2011  2011                  0.001759\n",
       "2012  2012                  0.001856\n",
       "2013  2013                  0.001781\n",
       "2014  2014                  0.001367\n",
       "2015  2015                  0.001390\n",
       "2016  2016                  0.001893\n",
       "2017  2017                  0.002409\n",
       "2018  2018                  0.003306\n",
       "2019  2019                  0.003605"
      ]
     },
     "execution_count": 154,
     "metadata": {},
     "output_type": "execute_result"
    }
   ],
   "source": [
    "\n",
    "def citation_diversity(df):\n",
    "    hhi_indices = []\n",
    "    for year in range(2000, 2020):\n",
    "        citation_counts_year = list(citation_count_dict(df.loc[df.date.dt.year==year, :]).values())\n",
    "#         print('sum', citation_counts_year[:10], sum(citation_counts_year))\n",
    "        array_p_i = np.array(citation_counts_year)/sum(citation_counts_year)\n",
    "        hhi = array_p_i * array_p_i\n",
    "        hhi_indices.append(sum(hhi))\n",
    "    return pd.DataFrame({'year': list(range(2000,2020)), 'citation_diversity_index': hhi_indices})\n",
    "\n",
    "citation_diversity_bombay = citation_diversity(df.loc[df.court=='Bombay High Court', :]) \n",
    "citation_diversity_bombay.index = (citation_diversity_bombay.year)\n",
    "citation_diversity_bombay"
   ]
  },
  {
   "cell_type": "code",
   "execution_count": 148,
   "metadata": {},
   "outputs": [
    {
     "ename": "NameError",
     "evalue": "name 'citation_diversity_bombay' is not defined",
     "output_type": "error",
     "traceback": [
      "\u001b[1;31m---------------------------------------------------------------------------\u001b[0m",
      "\u001b[1;31mNameError\u001b[0m                                 Traceback (most recent call last)",
      "\u001b[1;32m<ipython-input-148-b79c7cf04d9c>\u001b[0m in \u001b[0;36m<module>\u001b[1;34m\u001b[0m\n\u001b[1;32m----> 1\u001b[1;33m \u001b[0mcitation_diversity_bombay\u001b[0m\u001b[1;33m.\u001b[0m\u001b[0mplot\u001b[0m\u001b[1;33m(\u001b[0m\u001b[0mx\u001b[0m\u001b[1;33m=\u001b[0m\u001b[1;34m'year'\u001b[0m\u001b[1;33m,\u001b[0m \u001b[0my\u001b[0m\u001b[1;33m=\u001b[0m\u001b[1;34m'citation_diversity_index'\u001b[0m\u001b[1;33m,\u001b[0m \u001b[0mfigsize\u001b[0m\u001b[1;33m=\u001b[0m\u001b[1;33m(\u001b[0m\u001b[1;36m20\u001b[0m\u001b[1;33m,\u001b[0m\u001b[1;36m18\u001b[0m\u001b[1;33m)\u001b[0m\u001b[1;33m)\u001b[0m\u001b[1;33m\u001b[0m\u001b[1;33m\u001b[0m\u001b[0m\n\u001b[0m",
      "\u001b[1;31mNameError\u001b[0m: name 'citation_diversity_bombay' is not defined"
     ]
    }
   ],
   "source": [
    "citation_diversity_bombay.plot(x='year', y='citation_diversity_index', figsize=(20,18))"
   ]
  },
  {
   "cell_type": "code",
   "execution_count": 137,
   "metadata": {},
   "outputs": [
    {
     "data": {
      "text/plain": [
       "15"
      ]
     },
     "execution_count": 137,
     "metadata": {},
     "output_type": "execute_result"
    }
   ],
   "source": [
    "a = [5,3,7]\n",
    "a.sort()\n",
    "a[1]\n",
    "sum(a)"
   ]
  },
  {
   "cell_type": "code",
   "execution_count": 136,
   "metadata": {},
   "outputs": [
    {
     "data": {
      "text/plain": [
       "1137181"
      ]
     },
     "execution_count": 136,
     "metadata": {},
     "output_type": "execute_result"
    }
   ],
   "source": [
    "sum(citation_counts.values())"
   ]
  },
  {
   "cell_type": "code",
   "execution_count": null,
   "metadata": {},
   "outputs": [],
   "source": []
  }
 ],
 "metadata": {
  "kernelspec": {
   "display_name": "Python 3",
   "language": "python",
   "name": "python3"
  },
  "language_info": {
   "codemirror_mode": {
    "name": "ipython",
    "version": 3
   },
   "file_extension": ".py",
   "mimetype": "text/x-python",
   "name": "python",
   "nbconvert_exporter": "python",
   "pygments_lexer": "ipython3",
   "version": "3.7.4"
  }
 },
 "nbformat": 4,
 "nbformat_minor": 4
}
