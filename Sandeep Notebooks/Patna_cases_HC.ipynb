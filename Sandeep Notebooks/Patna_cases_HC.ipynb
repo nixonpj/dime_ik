{
 "cells": [
  {
   "cell_type": "code",
   "execution_count": 2,
   "metadata": {},
   "outputs": [],
   "source": [
    "from bs4 import BeautifulSoup\n",
    "from selenium import webdriver\n",
    "import pandas as pd\n",
    "from os.path import join\n",
    "import os\n",
    "import html5lib\n",
    "import lxml\n",
    "import re\n",
    "from time import sleep\n",
    "from IPython.display import clear_output\n",
    "from selenium.webdriver.support.ui import Select\n",
    "import matplotlib.pyplot as plt\n",
    "import random\n",
    "import time\n",
    "import requests\n",
    "import pickle\n",
    "import urllib.parse\n",
    "import shutil  "
   ]
  },
  {
   "cell_type": "code",
   "execution_count": 3,
   "metadata": {},
   "outputs": [],
   "source": [
    "root_folder = '/home/sandeep/Desktop/Projects/Python/Patna/'"
   ]
  },
  {
   "cell_type": "markdown",
   "metadata": {},
   "source": [
    "## Issues"
   ]
  },
  {
   "cell_type": "markdown",
   "metadata": {},
   "source": [
    "1. Some case types do not appear in the dropdown list in case search on the HC website\n",
    "2. Thos not appearing are approx 25% of the cases"
   ]
  },
  {
   "cell_type": "markdown",
   "metadata": {},
   "source": [
    "### Get Case Type codes"
   ]
  },
  {
   "cell_type": "code",
   "execution_count": 3,
   "metadata": {},
   "outputs": [],
   "source": [
    "#browser = webdriver.Chrome('/home/sandeep/Desktop/Projects/Python/Patna/chromedriver')\n",
    "#url = 'http://patnahighcourt.gov.in/'\n",
    "#browser.get(url)"
   ]
  },
  {
   "cell_type": "code",
   "execution_count": 258,
   "metadata": {},
   "outputs": [],
   "source": [
    "# Click on the CASE STATE tab to load the dropdown lists"
   ]
  },
  {
   "cell_type": "code",
   "execution_count": 38,
   "metadata": {},
   "outputs": [],
   "source": [
    "# get visible text and values from the dropdown list in case status search\n",
    "#select_civ = Select(browser.find_element_by_name(\"ctl00$MainContent$ddlCTypeCivil\"))\n",
    "#select_cri = Select(browser.find_element_by_name(\"ctl00$MainContent$ddlCTypeCri\"))"
   ]
  },
  {
   "cell_type": "code",
   "execution_count": 56,
   "metadata": {
    "scrolled": true
   },
   "outputs": [],
   "source": [
    "# dict to convert the dropdown list visible text in to a parameter in the POST call\n",
    "#case_type_dict = {**{re.search(r'\\[.*?\\]', x.text)[0][1:-1]: (True, x.get_attribute('value')) for x in select_civ.options}, \n",
    "#                  **{re.search(r'\\[.*?\\]', x.text)[0][1:-1]: (False, x.get_attribute('value')) for x in select_cri.options}}\n",
    " "
   ]
  },
  {
   "cell_type": "code",
   "execution_count": 25,
   "metadata": {},
   "outputs": [],
   "source": [
    "case_type_dict = {'ADM. SUIT': (True, '42'), 'CRT. APPEAL': (True, '39'), 'C.Misc.': (True, '44'),\n",
    "                  'C.REF.': (True, '12'), 'C. REV.': (True, '11'), 'C.R.': (True, '8'),\n",
    "                  'CWJC': (True, '15'), 'COM. APP': (True, '50'), 'COMP. APP.': (True, '37'),\n",
    "                  'COMP. APP.(DB)': (True, '38'), 'COM. APPLIC': (True, '20'), 'COM PET': (True, '21'),\n",
    "                  'COMPAN. APL': (True, '34'), 'E.P.': (True, '14'), 'FA': (True, '1'),\n",
    "                  'L.P.A': (True, '3'), 'MAT. REF.': (True, '19'), 'MAT. SUIT': (True, '33'),\n",
    "                  'MA': (True, '2'), 'MJC': (True, '10'), 'MONEY SUIT': (True, '41'),\n",
    "                  'PATENT CASE': (True, '30'), 'REQ. CASE': (True, '36'), 'SCA': (True, '40'),\n",
    "                  'SA': (True, '9'), 'SLP': (True, '51'), 'TAX': (True, '4'), 'TEST CASE': (True, '17'),\n",
    "                  'TEST SUIT': (True, '18'), 'T.S.': (True, '22'), 'CR. APP(341': (False, '35'),\n",
    "                  'CR. APP (DB)': (False, '5'), 'CR. APP (SJ)': (False, '24'),\n",
    "                  'CR.APP(U/S)': (False, '27'), 'CR. MISC.': (False, '6'), 'CR. REF.': (False, '29'),\n",
    "                  'CR. REV.': (False, '7'), 'CR. WJC': (False, '16'), 'D. REF.': (False, '28'),\n",
    "                  'G. APP. (DB)': (False, '25'), 'G.APP.(SJ)': (False, '31'), \n",
    "                  'OR. CR. MISC': (False, '23'), 'OCR.MISC(DB)': (False, '32'), 'SLA': (False, '26')}"
   ]
  },
  {
   "cell_type": "markdown",
   "metadata": {},
   "source": [
    "### 1. Convert case number into form data for the request"
   ]
  },
  {
   "cell_type": "code",
   "execution_count": 11,
   "metadata": {},
   "outputs": [],
   "source": [
    "def convert_case_no_to_params(case_no):\n",
    "    # output tuple of (is_civil, civ_case_type, civ_case_no, civ_year, cri_case_type, cri_case_no, cri_year)\n",
    "    \n",
    "    params = re.split(r'(-|/)',case_no)[::2]\n",
    "\n",
    "    \n",
    "    # check if the case type is in an option in the dropdown list in the HC site\n",
    "    _ = case_type_dict.get(params[0], '0')\n",
    "\n",
    "    if _=='0':\n",
    "        to_scrape = False\n",
    "        is_civil, civ_case_type, civ_case_no, civ_year = '', '', '', ''\n",
    "        cri_case_type, cri_case_no, cri_year = '', '', ''\n",
    "        \n",
    "        return to_scrape, is_civil, civ_case_type, civ_case_no, civ_year, cri_case_type, cri_case_no, cri_year\n",
    "    else:\n",
    "        to_scrape = True\n",
    "        is_civil = _[0]\n",
    "        \n",
    "    if is_civil:\n",
    "        civ_case_type, civ_case_no, civ_year = _[1], params[1], params[2]\n",
    "        cri_case_type, cri_case_no, cri_year = '5', '', ''\n",
    "    else:\n",
    "        civ_case_type, civ_case_no, civ_year = '42', '', ''\n",
    "        cri_case_type, cri_case_no, cri_year = _[1], params[1], params[2]\n",
    "    \n",
    "    return to_scrape, is_civil, civ_case_type, civ_case_no, civ_year, cri_case_type, cri_case_no, cri_year\n",
    "        \n",
    "        \n",
    "    \n",
    "    "
   ]
  },
  {
   "cell_type": "markdown",
   "metadata": {},
   "source": [
    "### 2. Function to make the appropriate request"
   ]
  },
  {
   "cell_type": "markdown",
   "metadata": {},
   "source": [
    "1. First make a request to get sessionID cookie, VIEWSTATE, EVENTVALIDATION etc\n",
    "2. Make a post request with the cookies and form data from the above function for a case to get the static url associated to the case_no. Note that this is the redirect url.\n",
    "3. scrape the content from the static url"
   ]
  },
  {
   "cell_type": "code",
   "execution_count": 12,
   "metadata": {},
   "outputs": [],
   "source": [
    "def get_case_details(to_scrape, is_civil, civ_case_type, civ_case_no, civ_year, cri_case_type, cri_case_no, cri_year):\n",
    "    \n",
    "    if not to_scrape:\n",
    "        return False, '', ''\n",
    "    \n",
    "    if is_civil:\n",
    "        fname = '_'.join([str(int(is_civil)), civ_case_type, civ_case_no, civ_year])\n",
    "    else:\n",
    "        fname = '_'.join([str(int(is_civil)), cri_case_type, cri_case_no, cri_year])\n",
    "        \n",
    "    # page containing the case wise search\n",
    "    url = 'http://patnahighcourt.gov.in/'  \n",
    "    \n",
    "    # Get cookies\n",
    "    s = requests.Session()\n",
    "    response = s.get(url)\n",
    "    cookies = s.cookies.get_dict()\n",
    "    headers = {\n",
    "        'Connection': 'keep-alive',\n",
    "        'Cache-Control': 'max-age=0',\n",
    "        'Origin': 'http://patnahighcourt.gov.in',\n",
    "        'Upgrade-Insecure-Requests': '1',\n",
    "        'Content-Type': 'application/x-www-form-urlencoded',\n",
    "        'User-Agent': 'Mozilla/5.0 (X11; Linux x86_64) AppleWebKit/537.36 (KHTML, like Gecko) Chrome/80.0.3987.87 Safari/537.36',\n",
    "        'Accept': 'text/html,application/xhtml+xml,application/xml;q=0.9,image/webp,image/apng,*/*;q=0.8,application/signed-exchange;v=b3;q=0.9',\n",
    "        'Referer': 'http://patnahighcourt.gov.in/',\n",
    "        'Accept-Language': 'en-US,en;q=0.9,bn;q=0.8',\n",
    "    }\n",
    "    data_session = {x['name']:x['value'] for x in BeautifulSoup(response.text).find_all('input', attrs = {'type': \"hidden\"})}\n",
    "    \n",
    "    # Input form data parsed from the case number\n",
    "    data_params = {\n",
    "        '__EVENTTARGET': '',\n",
    "        '__EVENTARGUMENT': '',\n",
    "        '__SCROLLPOSITIONX': '0',\n",
    "        '__SCROLLPOSITIONY': '107',\n",
    "        'ctl00$txtSearch': '',\n",
    "        'ctl00$MainContent$ddlCTypeCivil': civ_case_type,\n",
    "        'ctl00$MainContent$txtCaseNoCivil': civ_case_no,\n",
    "        'ctl00$MainContent$txtCaseYear': civ_year,\n",
    "        'ctl00$MainContent$ddlCTypeCri': cri_case_type,\n",
    "        'ctl00$MainContent$txtCaseNoCri': cri_case_no,\n",
    "        'ctl00$MainContent$txtCaseYearCri': cri_year\n",
    "        }\n",
    "\n",
    "    \n",
    "    if is_civil:\n",
    "        data_search_type = {'ctl00$MainContent$btnSearchCivil': 'Search'}\n",
    "    else:\n",
    "        data_search_type = {'ctl00$MainContent$btnSearchCri': 'Search'}\n",
    "    \n",
    "    \n",
    "    # Make a post request\n",
    "    response = requests.post('http://patnahighcourt.gov.in/', headers=headers,\n",
    "                             cookies=cookies,\n",
    "                             data={**data_session, **data_params, **data_search_type}, verify=False)\n",
    "    \n",
    "    # Get static url fragment for case details\n",
    "    static_url_fragment = BeautifulSoup(response.text).find('form')['action']\n",
    "    \n",
    "      \n",
    "    \n",
    "    # get the case_details page\n",
    "    r = requests.get(url+static_url_fragment)\n",
    "    BeautifulSoup(r.text).find('div', attrs={'class': 'pageBody'})\n",
    "    body = BeautifulSoup(r.text).find('div', attrs={'class':'pageBody'})\n",
    "\n",
    "    print('Status Code: %d' %r.status_code)\n",
    "\n",
    "    return to_scrape, fname+'_'+static_url_fragment.split('.aspx?CNO=')[-1], body"
   ]
  },
  {
   "cell_type": "markdown",
   "metadata": {},
   "source": [
    "### Save html page"
   ]
  },
  {
   "cell_type": "code",
   "execution_count": 13,
   "metadata": {},
   "outputs": [],
   "source": [
    "def save_page(success_status, fname, content):\n",
    "    if success_status:\n",
    "        with open(join(root_folder, 'data','select_cases_elec/', fname+'.html'), 'w') as f:\n",
    "            f.write(str(content))"
   ]
  },
  {
   "cell_type": "code",
   "execution_count": null,
   "metadata": {},
   "outputs": [],
   "source": []
  },
  {
   "cell_type": "code",
   "execution_count": null,
   "metadata": {},
   "outputs": [],
   "source": []
  },
  {
   "cell_type": "markdown",
   "metadata": {},
   "source": [
    "### Loop over case numbers from saved judges cases csv file"
   ]
  },
  {
   "cell_type": "code",
   "execution_count": 14,
   "metadata": {},
   "outputs": [],
   "source": [
    "case_nos = list(pd.read_csv(os.path.join(root_folder, 'data/cases_by_judge_patna.csv'))['Case Number'])"
   ]
  },
  {
   "cell_type": "code",
   "execution_count": 15,
   "metadata": {},
   "outputs": [],
   "source": [
    "times, rate = [], []"
   ]
  },
  {
   "cell_type": "code",
   "execution_count": 16,
   "metadata": {},
   "outputs": [],
   "source": [
    "t=0\n",
    "r=0"
   ]
  },
  {
   "cell_type": "code",
   "execution_count": 100,
   "metadata": {
    "scrolled": true
   },
   "outputs": [
    {
     "name": "stdout",
     "output_type": "stream",
     "text": [
      "working on 30852 out of 50000\n",
      "Number of cases scraped 23277 out of 50000\n",
      "response time: 0.00\n",
      "rate: 0.00\n"
     ]
    }
   ],
   "source": [
    "s=0\n",
    "num = 0\n",
    "t_start = time.time()\n",
    "\n",
    "start,end = 30851, 50000\n",
    "for i, case_no in enumerate(case_nos[start: end]):\n",
    "    try:\n",
    "        t1 = time.time()\n",
    "        sleep(s)\n",
    "        clear_output()\n",
    "        print('working on %d out of %d' %((start+i+1), end))\n",
    "        print('Number of cases scraped %d out of %d' %(len(\n",
    "            os.listdir(os.path.join(root_folder, 'data/cases_from_HC'))), end))\n",
    "        print('response time: %.2f' %t)\n",
    "        print('rate: %.2f' %r)\n",
    "        params = convert_case_no_to_params(case_no)    \n",
    "        save_page(*get_case_details(*params))\n",
    "        t2 = time.time()\n",
    "        t = t2-t1\n",
    "        times.append(t)\n",
    "        num+=1\n",
    "        r=(60*num)/(t2-t_start)\n",
    "        rate.append((r, time.time()))\n",
    "                    \n",
    "        s = 0 if random.uniform(0,1)<0.05 else s\n",
    "\n",
    "    except TimeoutError:\n",
    "        s+=1\n",
    "        sleep(10)\n",
    "    except KeyboardInterrupt:\n",
    "        break\n",
    "    except:\n",
    "        pass\n",
    "\n",
    "\n"
   ]
  },
  {
   "cell_type": "markdown",
   "metadata": {},
   "source": [
    "### To-Do"
   ]
  },
  {
   "cell_type": "markdown",
   "metadata": {},
   "source": [
    "1. Scrape all the cases\n",
    "2. Find a way of getting case details for the case types which are not in the dropdown list\n",
    "3. parse the html page to extract a csv file with case info\n",
    "4. Merge case info with the judge info\n",
    "5. Make lawyer judge network"
   ]
  },
  {
   "cell_type": "code",
   "execution_count": null,
   "metadata": {},
   "outputs": [],
   "source": []
  },
  {
   "cell_type": "code",
   "execution_count": 42,
   "metadata": {
    "scrolled": true
   },
   "outputs": [
    {
     "data": {
      "image/png": "[encoded data removed]",
      "text/plain": [
       "<Figure size 432x288 with 1 Axes>"
      ]
     },
     "metadata": {
      "needs_background": "light"
     },
     "output_type": "display_data"
    }
   ],
   "source": [
    "plt.plot([x[0] for x in rate]);"
   ]
  },
  {
   "cell_type": "code",
   "execution_count": 36,
   "metadata": {
    "scrolled": false
   },
   "outputs": [
    {
     "data": {
      "image/png": "[encoded data removed]",
      "text/plain": [
       "<Figure size 432x288 with 1 Axes>"
      ]
     },
     "metadata": {
      "needs_background": "light"
     },
     "output_type": "display_data"
    }
   ],
   "source": [
    "plt.hist(times, bins=40);"
   ]
  },
  {
   "cell_type": "code",
   "execution_count": 352,
   "metadata": {},
   "outputs": [],
   "source": []
  },
  {
   "cell_type": "markdown",
   "metadata": {},
   "source": [
    "### Scrape select cases from around the elections"
   ]
  },
  {
   "cell_type": "code",
   "execution_count": 17,
   "metadata": {},
   "outputs": [],
   "source": [
    "with open('select_cases_elec.pkl', 'rb') as f:\n",
    "    case_nos = pickle.load(f)"
   ]
  },
  {
   "cell_type": "code",
   "execution_count": 27,
   "metadata": {},
   "outputs": [],
   "source": [
    "case_nos = list(case_nos)"
   ]
  },
  {
   "cell_type": "code",
   "execution_count": 28,
   "metadata": {},
   "outputs": [],
   "source": [
    "errors = []"
   ]
  },
  {
   "cell_type": "code",
   "execution_count": 29,
   "metadata": {},
   "outputs": [],
   "source": [
    "times, rate = [], []"
   ]
  },
  {
   "cell_type": "code",
   "execution_count": 30,
   "metadata": {},
   "outputs": [],
   "source": [
    "t=0\n",
    "r=0"
   ]
  },
  {
   "cell_type": "code",
   "execution_count": 48,
   "metadata": {},
   "outputs": [
    {
     "name": "stdout",
     "output_type": "stream",
     "text": [
      "working on 44520 out of 60000\n",
      "Number of cases scraped 47035 out of 60000\n",
      "Number of errors: 67\n",
      "response time: 23.89\n",
      "rate: 3.06\n"
     ]
    }
   ],
   "source": [
    "s=0\n",
    "num = 0\n",
    "t_start = time.time()\n",
    "\n",
    "start,end = 44_324, 60_000\n",
    "for i, case_no in enumerate(case_nos[start: end]):\n",
    "    try:\n",
    "        t1 = time.time()\n",
    "        sleep(s)\n",
    "        clear_output()\n",
    "        print('working on %d out of %d' %((start+i+1), end))\n",
    "        print('Number of cases scraped %d out of %d' %(len(\n",
    "            os.listdir(os.path.join(root_folder, 'data/select_cases_elec'))), end))\n",
    "        print('Number of errors: %d' %len(errors))\n",
    "        print('response time: %.2f' %t)\n",
    "        print('rate: %.2f' %r)\n",
    "        params = convert_case_no_to_params(case_no)    \n",
    "        save_page(*get_case_details(*params))\n",
    "        t2 = time.time()\n",
    "        t = t2-t1\n",
    "        times.append(t)\n",
    "        num+=1\n",
    "        r=(60*num)/(t2-t_start)\n",
    "        rate.append((r, time.time()))\n",
    "                    \n",
    "        s = 0 if random.uniform(0,1)<0.05 else s\n",
    "\n",
    "    except TimeoutError:\n",
    "        s+=1\n",
    "        sleep(10)\n",
    "    except KeyboardInterrupt:\n",
    "        break\n",
    "    except:\n",
    "        errors.append(case_no)\n",
    "\n",
    "\n"
   ]
  },
  {
   "cell_type": "code",
   "execution_count": 49,
   "metadata": {},
   "outputs": [
    {
     "data": {
      "image/png": "[encoded data removed]",
      "text/plain": [
       "<Figure size 1800x360 with 1 Axes>"
      ]
     },
     "metadata": {
      "needs_background": "light"
     },
     "output_type": "display_data"
    }
   ],
   "source": [
    "plt.figure(figsize=(25, 5))\n",
    "plt.plot([x[0] for x in rate]);"
   ]
  },
  {
   "cell_type": "code",
   "execution_count": null,
   "metadata": {},
   "outputs": [],
   "source": []
  },
  {
   "cell_type": "code",
   "execution_count": null,
   "metadata": {},
   "outputs": [],
   "source": []
  },
  {
   "cell_type": "code",
   "execution_count": null,
   "metadata": {},
   "outputs": [],
   "source": []
  },
  {
   "cell_type": "code",
   "execution_count": null,
   "metadata": {},
   "outputs": [],
   "source": []
  },
  {
   "cell_type": "code",
   "execution_count": null,
   "metadata": {},
   "outputs": [],
   "source": []
  },
  {
   "cell_type": "code",
   "execution_count": null,
   "metadata": {},
   "outputs": [],
   "source": []
  },
  {
   "cell_type": "code",
   "execution_count": null,
   "metadata": {},
   "outputs": [],
   "source": []
  },
  {
   "cell_type": "code",
   "execution_count": 233,
   "metadata": {},
   "outputs": [],
   "source": [
    "def get_all_docs(data_folder, fname):\n",
    "    \n",
    "    if '.html' not in fname:\n",
    "        return\n",
    "    \n",
    "    new_folder_name = fname.replace('.html', '')\n",
    "    url_frag = fname.split('_')[-1].split('.html')[0]\n",
    "    CNO = urllib.parse.unquote(url_frag)\n",
    "\n",
    "    \n",
    "    if not os.path.exists(os.path.join(data_folder, new_folder_name)):\n",
    "        os.mkdir(os.path.join(data_folder, new_folder_name))\n",
    "        \n",
    "    # move file to the new folder \n",
    "    source = os.path.join(data_folder, fname)\n",
    "    destination = os.path.join(data_folder, new_folder_name, fname)\n",
    "    \n",
    "    shutil.move(source, destination)    \n",
    "    \n",
    "  \n",
    "    \n",
    "    with open(destination, 'r') as f:\n",
    "        d = BeautifulSoup(f.read())\n",
    "    \n",
    "    link_options = ['ctl00$'+x['href'].split('ctl00$')[-1].split('$LinkButton1')[0]+'$LinkButton1' \n",
    "     for x in d.find_all('a') if x.get_attribute_list('href')[0]]\n",
    "    \n",
    "    for option in link_options:\n",
    "        \n",
    "        cookies = {\n",
    "            'ASP.NET_SessionId': '2hjg4h3a4ilkwbtau32vx0kl',\n",
    "            'CaptchaImageText': '729',\n",
    "        }\n",
    "\n",
    "        headers = {\n",
    "            'Connection': 'keep-alive',\n",
    "            'Cache-Control': 'max-age=0',\n",
    "            'Upgrade-Insecure-Requests': '1',\n",
    "            'Origin': 'http://patnahighcourt.gov.in',\n",
    "            'Content-Type': 'application/x-www-form-urlencoded',\n",
    "            'User-Agent': 'Mozilla/5.0 (X11; Linux x86_64) AppleWebKit/537.36 (KHTML, like Gecko) Chrome/81.0.4044.92 Safari/537.36',\n",
    "            'Accept': 'text/html,application/xhtml+xml,application/xml;q=0.9,image/webp,image/apng,*/*;q=0.8,application/signed-exchange;v=b3;q=0.9',\n",
    "            'Referer': 'http://patnahighcourt.gov.in/CaseStatus.aspx?CNO=QlJIQzAxMDM2MzgwMjAwOA%3d%3d-fRjT2YXKA4I%3d',\n",
    "            'Accept-Language': 'en-US,en;q=0.9,bn;q=0.8',\n",
    "        }\n",
    "\n",
    "        params = (\n",
    "            ('CNO', CNO),\n",
    "        )\n",
    "\n",
    "        data = {\n",
    "          '__EVENTTARGET':option,\n",
    "          '__EVENTARGUMENT': '',\n",
    "          '__VIEWSTATE': 'bPbbAfU0x2ZCt0fBy8vya+7mmU/W/FNinmRh/Br/4DvBHUlegNhkaLXJn3X6522DTPxBS14bZVRvKguNa7EXxOkAdEK3biVx+Ds0B3GyeRdDdCPVjeFdypwlCha+JADSW8rniR6Sz+h4P7DZGDf9FwGQrVSoQ73gb37QUOiQwW+QM99A1FSK0DHuLfd9hWuiMMktraHHudWI2px0YvjkPM95hX1DqmBw53TeXSnw/HvYxgc1hBSOP5mbMiOF1oHZgz44PFPZ34ofxoyKzEUO8vFfN6i5eXL+1qJpf8FDqa5UWbSKzHQp9J+FrHI1cGdLPmbjXmHS0YxkyNUSyxn9hLc6NpokXD30CodMxyYfEB8K3/wVdYAzgXV+j7+uP4PxEwmG24xdIAhzDkBwPBSH2goh3281X6Q04iG4Kq4fNG0dWA9BnoQs8ofqIqdmf4BGCc4Hr9yBaW/OWM2MQ0JGONAfq+Y4g37MzGEEWeB4x0zX/FGYvObF8qi0DS1crDk0wGJ/h3IFX5hE5o6SfEytpxRy+4t7WM9tzuxRuzxk5A3nksUBzEsgbDmo9/gRS9+vlgxftbGOb7qDCyfdYkeeSeqg0NQjcOhiu49/GneCpcG9gmGQFiup/r/RMxj/J/SG/36FwFCxQqQZwxqNO+AwvHIz82pgX4KjtLBZR5ILPxCz31jju1RVyjhS/o7+59MkkstSsBgLewfSKUyWOuUBFTICxThnGuNMEMbIXqsMKJAWeWFtJmxdKNn0Hko0xJPypqkKo+H8awGRCOstK2cCihs8UrfL6TyYNQj2wdkDZ73lCxXJxaUE0okfrmUFBM4wfMncne3mv0K9CgYRUl3Ub/+cn2nX8Haaq2aUlDTeoSkpHWGwSTSzt1MOyuHTCBEsEkwnt8rWOdn2rUec4122BuMmCahNAZd9lGFner3Wc2yjxODdRvWZ+gLx7NkJMoJrPKeR2Ydo7hoAnquRzMA3pbrXbmnTi2+yG4R+4XfXVOPbRiYkKqA0cCM7RlOgi3umZEHowwAVuWk4lhBlBl/jSkv6uCsEJ6paTv0L8ocnntkn9ZdguiXYXsVgoyIHuQnRW2FMkVA3dxDQIneWFfRLIK3wtv8m5NLvkkUzB7nl9RQ42d6aLVDa0xGG61BDMiJpzP4VsN3KKzO/kwIhK2wl0fbLfb9BsottMaRDmzXRRHM7/VHxDNUIv72OXrUHL4ao9qAnWzAU+YNhRZfUiWctsR/RkmT0uP62KSbHWUgj4l6hKUpcLvsIELxBaVYiCVo2BTecPnj/mQLZqm4BGHeeCzHZTNWjCs5NbHk6JC2UrqmX0rlxO1JobYuWjJJY1Ukna+vCyYHACLXsq2rmfoEWdAokfZy0oeN4v13x49w1Mylxz3cufs+5r1J1ZAAJm/KRR1GmZXrrzp5rPhDz9YMKna/7u79QnefCRLn1OPzZfx6deFqUJdjE/A4jURAKYAxrmU0DS7WU+ndXrWhCYI01deailD6CWhcdU3W46WtpEEp/OIorooD5JuA/7r2CIgAPcg6zrq/YXA5tapIdrmI8Ke/YOcErOnu9XUT6VABlR5A+Vjx3KKMr7d6uPThz22tOe7r2Q7JpO3h8DG1MSJb3drvd2Dkxjeo1PfvDiP1owNvlrE2ZdeuvJbo/LKvMnAHlIbRo9FG7y6YXBlBsJIoZrcsuSCgo96hajQaVElrkXMfR4Pqr8I6vpK6SKwKdC3o07vRyNFntrJ/qxZ+StNXO1x/OIutOF5protESUchcm4xr3vDjSPfz8T+XADQFSxBEqm7i5SCwIr4S4rxbfX/yV6KWLPf+J0QwUVCLWgL7j5FZatmnzSb+JYA4KSyu4tLxZ8CaTQNTZiIByXicaO9cUNcrqBpzrPyJM8zr+1SnmKtdrw9LiO6G5kLrC85UAia23NMOnTbbe3IrM3Ym7m5a2Mez9heie9slv0RdZWKZBWwMepmzTZ84OvWjjGdSdZ0giUiJFzfJ2Ei/rf4LCiVS2yeJVLLnlb3lIpfVKnLcz24nLox/MLFxxatXZMObfbVPHPpekfpNmH4dKZG68uX5WbRb11Nyv3SdbIJEzfvG3un5vNqhdAHrrh+RZ7POV28cz24UDrkw2g+vOKhkHbdkQOG02k7Xxg/onTWR8O/y33yftpbTpq5iRwUHhbFCUbSexbHsc0COefyswU7j7fuTKJt3j95qvTihl4YlgCXTS3OyO4IL/ne94N566gl2vT8nplF0GHS18USV4guKTWp48HUcRuHpb0jVc6gD2k615ryhwaiIicvanyGI1Agn5+KMWiiKMRLuy73+N+YLnzYZG02abdBg7INwp+CmnO5QUbQHixGfQixlQvTurVj5+5gjUHH9SDyu5oV9GByWg0wEV2gWSs1MOSFMIvHkV2kCXd8YURoDv9djQwuLvZRC8qrLVs78b09ACJ+vxslYqr9ueqCVQ+ClSSuFspVzFN9sK9tC5UpkuMRTfy4TvgBaLgAWfqXvBR/NBXvUO51I+RwOxcq/2KV6gb2FokwCODfJpPbIDwdOIqMBGtGPlj3TyYYCCRihlUYJIFoL7GimU/PQgTtp7eVEtAhjw9r7pyTiXz0EqYEhLnz0wPAvBiotX3K7Er4Nwuish7apzscUpZK24eheu2k784ZKeDv7BpuhT49jOU6LaY6wxiep6CZwgvnqKHBHUcuueLyXt/WcRqcDN5oBQmr0NkO805Ai5VJ9Jw4sUqJW8C7FIVDM1jON0ZnAt9yEAwj3sN/bV+E38ze6OcxDMJm5jxfuapfls4CPp9bUZoqAiZyuVdXAOgAI1qFjtaCDWY5n7IFX2y2RrQTxD6sg6kDFQTYVYTmIuk1sT2cF9NYn3dcyTFLrd8XbxjY+SoUqZdUJM1lIdNXN40qSOy+qACeyGt+CjODc82mW0eFEf8QgMkumgRqOSCL2H8I3Rq2/hKVvDCsaDAzFOy4NQHVm1QhQMRdYEW9sUNdsbEtdF0bPfvaOoWB2vqSCTZyY+quNBhqe6Ksf/Pbb27baYJb/J/Nu+VwRBxzPluwo2W7CtvShMj9/06o3V/hbYwts8Y93HTbjsxwXoblKPHfmMTHwU2ok+unodGlf6dcdkleOCmIZ3XWvh2nEqmUe2pExq4jkfbMLnj/DZ8+4iWH6+MT6O8y2q00wKAJuwg0eUNTJN4R/pLja8JspJrXSYnMisaXr45geCei/6TlGETiQJkspT7HhcxefBXuVb09FTbxVGH08Eb5q9xRv/JiVMcvGdr118TMDOXtgeH7KzUOqukdB+rn5E+AF9R+5GfcmLojFTSPM6WnEo8ULk/7nPmy8QZ5wEKFBqhrioPPKJokZ1VAIBRixtOfVkfZmu3y4OVu5ck14DVp2wnXMEfOVc8EcQ8hKJWZREj5M52awS47ai69nt81pS6pbsXsjVKE8bkGgExynBIT85A2gRt/IRMxWD/c+WiMjPC+l3HDh4DIChRD7MqPziHvaP84eHqrUbIPTaiAUjmGqMZs9nhaez2/xy8vPJKC9PquqNICe4H0IIcPsI12Hbddb+ID4Rf+VPqmB4iHoBOxLLuDqh5OVtic0abGO9ahiT523q+P3XsuRIpebuWKqAsZmKIxG5qn2bky7vGiswql6JZvtqYUSDjRCoOyVhW5LEgveZkstAhsUYBmDxDK6w/S0qbPlz+zaeT4D7SW9l4CZntscpYzo5N2MdQm89hnBSMqHM2zEoLVwpVwJ7XzZJyYGJ88zrnGRoaKksIHOtcu4T+clAd58SQyjU1kc8l3d50/ybhY9rIQY8GWtaTqWpnajyFhRMoFibgQ2hK4mJcHbRebXWa4eDU/JcgneUhWBSKcliJ8/TR+ddpBfLXT9o+c2st3nCl4RocqVDYcgSp5My9JMc1TKmbDRrGI0QLhdrkz7I68Q9MC/XLEyFZ/S3opO3rGTHd9jOWAJAHlX8tlABlOd9zxMil4/VzBrzMDlcLq5H/w5nbKJvPCS4tVKClIPhbQ+4+aOXxX0MPYqDQYGrVEsKZofEYs8MfnvnpoUwaOoFUrHvLSZ/A==',\n",
    "          '__SCROLLPOSITIONX': '0',\n",
    "          '__SCROLLPOSITIONY': '572',\n",
    "          '__VIEWSTATEENCRYPTED': '',\n",
    "          '__EVENTVALIDATION': 'vv5g8XkUuQDROxk9RwfdgXUAwFtSnWMOS2qClQEYOi00ucNyE8AaFny5xYhi+4tZyw3l0z7aTlfNzuudcOBHREELB+R8Pr6iD3m2KJ+2026Jzk79L8zU5gl3hD/v+3ia',\n",
    "          'ctl00$txtSearch': ''\n",
    "        }\n",
    "\n",
    "        response = requests.post('http://patnahighcourt.gov.in/CaseStatus.aspx', headers=headers, params=params, cookies=cookies, data=data, verify=False)\n",
    "        if (response.status_code==200) and ('pdf' in response.headers['Content-Type']):\n",
    "            with open(os.path.join(data_folder, new_folder_name, option+'.pdf'), 'wb') as f:\n",
    "                f.write(response.content)\n",
    "            sleep(3)\n",
    "        else:\n",
    "            \n",
    "            print('http://patnahighcourt.gov.in/CaseStatus.aspx?CNO='+CNO)\n",
    "            download_errors.append((CNO, option))\n",
    "            print('error: (%s,  %s)' %(fname, CNO, option))\n",
    "            return response\n"
   ]
  },
  {
   "cell_type": "code",
   "execution_count": 223,
   "metadata": {
    "scrolled": true
   },
   "outputs": [
    {
     "name": "stdout",
     "output_type": "stream",
     "text": [
      "http://patnahighcourt.gov.in/CaseStatus.aspx?CNO=QlJIQzAxMDIzMTQyMjAwOQ==-kpZQg+nPea0=\n",
      "error: (QlJIQzAxMDIzMTQyMjAwOQ==-kpZQg+nPea0=,  ctl00$MainContent$gvOrders1$ctl04$LinkButton1)\n"
     ]
    }
   ],
   "source": [
    "response = get_all_docs(data_folder, os.listdir(data_folder)[0])"
   ]
  },
  {
   "cell_type": "code",
   "execution_count": 225,
   "metadata": {},
   "outputs": [
    {
     "data": {
      "text/plain": [
       "'QlJIQzAxMDIzMTQyMjAwOQ%3D%3D-kpZQg%2BnPea0%3D'"
      ]
     },
     "execution_count": 225,
     "metadata": {},
     "output_type": "execute_result"
    }
   ],
   "source": [
    "urllib.parse.quote('QlJIQzAxMDIzMTQyMjAwOQ==-kpZQg+nPea0=')"
   ]
  },
  {
   "cell_type": "code",
   "execution_count": 228,
   "metadata": {},
   "outputs": [
    {
     "data": {
      "text/plain": [
       "{'Cache-Control': 'private', 'Content-Type': 'text/html; charset=utf-8', 'Server': 'Microsoft-IIS/7.5', 'x-frame-options': 'SAMEORIGIN', 'X-Content-Type-Options': 'nosniff', 'X-AspNet-Version': '4.0.30319', 'X-Powered-By': 'ASP.NET', 'Date': 'Sat, 09 May 2020 10:57:25 GMT', 'Content-Length': '55241', 'Accept-Ranges': 'none', 'Via': 'HTTP/1.1 forward.http.proxy:3333', 'Connection': 'keep-alive'}"
      ]
     },
     "execution_count": 228,
     "metadata": {},
     "output_type": "execute_result"
    }
   ],
   "source": [
    "response.headers"
   ]
  },
  {
   "cell_type": "code",
   "execution_count": null,
   "metadata": {},
   "outputs": [],
   "source": []
  }
 ],
 "metadata": {
  "kernelspec": {
   "display_name": "patna_venv",
   "language": "python",
   "name": "patna_venv"
  },
  "language_info": {
   "codemirror_mode": {
    "name": "ipython",
    "version": 3
   },
   "file_extension": ".py",
   "mimetype": "text/x-python",
   "name": "python",
   "nbconvert_exporter": "python",
   "pygments_lexer": "ipython3",
   "version": "3.6.9"
  }
 },
 "nbformat": 4,
 "nbformat_minor": 4
}
