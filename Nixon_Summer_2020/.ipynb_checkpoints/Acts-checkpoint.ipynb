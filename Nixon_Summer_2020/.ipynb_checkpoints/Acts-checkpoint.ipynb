{
 "cells": [
  {
   "cell_type": "code",
   "execution_count": 128,
   "metadata": {},
   "outputs": [],
   "source": [
    "import requests\n",
    "from bs4 import BeautifulSoup\n",
    "from datetime import datetime\n",
    "from time import sleep\n",
    "import pandas as pd\n",
    "from tqdm import tqdm\n",
    "import pickle\n",
    "import os\n",
    "import re\n",
    "from IPython.display import clear_output"
   ]
  },
  {
   "cell_type": "code",
   "execution_count": 2,
   "metadata": {},
   "outputs": [],
   "source": [
    "url_pieces = ['https://indiankanoon.org/search/?formInput=short%20title%20%20%20%20%20doctypes%3A%20laws%20fromdate%3A%20','%20todate%3A%20','&pagenum=']\n",
    "\n",
    "# Format of date is dd-mm-yyyy & Page number between 0 and 39"
   ]
  },
  {
   "cell_type": "code",
   "execution_count": 62,
   "metadata": {},
   "outputs": [],
   "source": [
    "start_date, end_date = '01-01-2002', '01-01-2004'"
   ]
  },
  {
   "cell_type": "code",
   "execution_count": 3,
   "metadata": {},
   "outputs": [],
   "source": [
    "# Extract the number of pages of results from the Beautiful soup element of the request response\n",
    "def get_num_results_pages(soup):\n",
    "    try:\n",
    "        num_pages = int(soup.find('div', \n",
    "                                  attrs={'class':'results_middle'}).find('b').text.split('of')[-1].strip())//10\n",
    "        return num_pages+1\n",
    "    except:\n",
    "        return None\n",
    "\n",
    "# Given the start and end date extract the results items as a list of BeautifulSoup elements    \n",
    "def get_results_from_time_frame(start_date, end_date):\n",
    "    \n",
    "    results_soup = []\n",
    "    err = []\n",
    "    \n",
    "    if type(start_date)==type(end_date)==str:\n",
    "        pass\n",
    "    else:\n",
    "        start_date = datetime.strftime(start_date, '%d-%m-%Y')\n",
    "        end_date = datetime.strftime(end_date, '%d-%m-%Y')\n",
    "    \n",
    "    url = url_pieces[0]+start_date+url_pieces[1]+end_date+url_pieces[-1]\n",
    "    \n",
    "    # Scrape the first page\n",
    "    response = requests.get(url+'0')\n",
    "    soup = BeautifulSoup(response.text)\n",
    "    \n",
    "    # Parse the results\n",
    "    try:\n",
    "        results_soup.extend(soup.find_all('div', attrs={'class':'result'}))\n",
    "    except:\n",
    "        err.append(url+'0')\n",
    "    \n",
    "    # Get the number pages to be scraped\n",
    "    num_pages = get_num_results_pages(soup)\n",
    "    \n",
    "    #print('Total number of pages to scrape: %d' %num_pages)\n",
    "    \n",
    "    # Loop over the results\n",
    "    if num_pages:\n",
    "        for page_num in tqdm(range(1, num_pages)):\n",
    "            sleep(3)\n",
    "            try:\n",
    "                response = requests.get(url+str(page_num))\n",
    "                soup = BeautifulSoup(response.text)\n",
    "                results_soup.extend(soup.find_all('div', attrs={'class':'result'}))\n",
    "                \n",
    "                clear_output()\n",
    "                #print('Number of results: %d' %len(results_soup))\n",
    "                \n",
    "            except:\n",
    "                #print(url+str(page_num))\n",
    "                err.append(url+str(page_num))\n",
    "    return results_soup, err\n",
    "\n",
    "# Extract info from results of the form (html_tag, type_of_act, kanoon_id)\n",
    "def extract_ids(results_soup):\n",
    "    results_ids = []\n",
    "    for i, item in enumerate(results_soup):\n",
    "        result_ids.extend([(x,item.find('div', attrs={'class':'docsource'}).text, x['href'])\n",
    "                           for x in results[i].find_all('a') if 'Complete Act' in x.text])\n",
    "    return results_ids\n",
    "\n"
   ]
  },
  {
   "cell_type": "code",
   "execution_count": null,
   "metadata": {},
   "outputs": [],
   "source": [
    "result_ids = []"
   ]
  },
  {
   "cell_type": "code",
   "execution_count": 16,
   "metadata": {},
   "outputs": [],
   "source": [
    "all_err = []"
   ]
  },
  {
   "cell_type": "code",
   "execution_count": null,
   "metadata": {
    "scrolled": false
   },
   "outputs": [],
   "source": [
    "\n",
    "start_date, end_date = '01-01-1800', '01-06-1800'\n",
    "results, err = get_results_from_time_frame(start_date, end_date)\n"
   ]
  },
  {
   "cell_type": "code",
   "execution_count": 90,
   "metadata": {},
   "outputs": [],
   "source": [
    "result_ids.extend(extract_ids(results))\n",
    "all_err.extend(err)"
   ]
  },
  {
   "cell_type": "code",
   "execution_count": 92,
   "metadata": {},
   "outputs": [
    {
     "name": "stdout",
     "output_type": "stream",
     "text": [
      "904\n"
     ]
    }
   ],
   "source": [
    "df_results = pd.DataFrame(result_ids)\n",
    "print(df_results.shape[0])"
   ]
  },
  {
   "cell_type": "code",
   "execution_count": 93,
   "metadata": {},
   "outputs": [
    {
     "data": {
      "text/html": [
       "<div>\n",
       "<style scoped>\n",
       "    .dataframe tbody tr th:only-of-type {\n",
       "        vertical-align: middle;\n",
       "    }\n",
       "\n",
       "    .dataframe tbody tr th {\n",
       "        vertical-align: top;\n",
       "    }\n",
       "\n",
       "    .dataframe thead th {\n",
       "        text-align: right;\n",
       "    }\n",
       "</style>\n",
       "<table border=\"1\" class=\"dataframe\">\n",
       "  <thead>\n",
       "    <tr style=\"text-align: right;\">\n",
       "      <th></th>\n",
       "      <th>0</th>\n",
       "      <th>1</th>\n",
       "      <th>2</th>\n",
       "    </tr>\n",
       "  </thead>\n",
       "  <tbody>\n",
       "    <tr>\n",
       "      <th>2</th>\n",
       "      <td>[Complete Act]</td>\n",
       "      <td>Central Government Act</td>\n",
       "      <td>/doc/463150/</td>\n",
       "    </tr>\n",
       "    <tr>\n",
       "      <th>657</th>\n",
       "      <td>[Complete Act]</td>\n",
       "      <td>Central Government Act</td>\n",
       "      <td>/doc/1202900/</td>\n",
       "    </tr>\n",
       "    <tr>\n",
       "      <th>885</th>\n",
       "      <td>[Complete Act]</td>\n",
       "      <td>Central Government Act</td>\n",
       "      <td>/doc/1443989/</td>\n",
       "    </tr>\n",
       "    <tr>\n",
       "      <th>846</th>\n",
       "      <td>[Complete Act]</td>\n",
       "      <td>Central Government Act</td>\n",
       "      <td>/doc/270183/</td>\n",
       "    </tr>\n",
       "    <tr>\n",
       "      <th>694</th>\n",
       "      <td>[Complete Act]</td>\n",
       "      <td>Central Government Act</td>\n",
       "      <td>/doc/65076/</td>\n",
       "    </tr>\n",
       "    <tr>\n",
       "      <th>242</th>\n",
       "      <td>[Complete Act]</td>\n",
       "      <td>Central Government Act</td>\n",
       "      <td>/doc/902285/</td>\n",
       "    </tr>\n",
       "    <tr>\n",
       "      <th>770</th>\n",
       "      <td>[Complete Act]</td>\n",
       "      <td>Central Government Act</td>\n",
       "      <td>/doc/1523917/</td>\n",
       "    </tr>\n",
       "    <tr>\n",
       "      <th>733</th>\n",
       "      <td>[Complete Act]</td>\n",
       "      <td>Central Government Act</td>\n",
       "      <td>/doc/165229/</td>\n",
       "    </tr>\n",
       "    <tr>\n",
       "      <th>305</th>\n",
       "      <td>[Complete Act]</td>\n",
       "      <td>Central Government Act</td>\n",
       "      <td>/doc/1987848/</td>\n",
       "    </tr>\n",
       "    <tr>\n",
       "      <th>617</th>\n",
       "      <td>[Complete Act]</td>\n",
       "      <td>Central Government Act</td>\n",
       "      <td>/doc/1326525/</td>\n",
       "    </tr>\n",
       "  </tbody>\n",
       "</table>\n",
       "</div>"
      ],
      "text/plain": [
       "                  0                       1              2\n",
       "2    [Complete Act]  Central Government Act   /doc/463150/\n",
       "657  [Complete Act]  Central Government Act  /doc/1202900/\n",
       "885  [Complete Act]  Central Government Act  /doc/1443989/\n",
       "846  [Complete Act]  Central Government Act   /doc/270183/\n",
       "694  [Complete Act]  Central Government Act    /doc/65076/\n",
       "242  [Complete Act]  Central Government Act   /doc/902285/\n",
       "770  [Complete Act]  Central Government Act  /doc/1523917/\n",
       "733  [Complete Act]  Central Government Act   /doc/165229/\n",
       "305  [Complete Act]  Central Government Act  /doc/1987848/\n",
       "617  [Complete Act]  Central Government Act  /doc/1326525/"
      ]
     },
     "execution_count": 93,
     "metadata": {},
     "output_type": "execute_result"
    }
   ],
   "source": [
    "df_results.sample(10)"
   ]
  },
  {
   "cell_type": "code",
   "execution_count": 49,
   "metadata": {},
   "outputs": [],
   "source": [
    "# save files\n",
    "df_results.to_csv('acts_IK.csv', index=False)\n",
    "\n",
    "with open('results_soup_list.pkl', 'wb') as f:\n",
    "    pickle.dump(result_ids, f)"
   ]
  },
  {
   "cell_type": "code",
   "execution_count": 6,
   "metadata": {},
   "outputs": [],
   "source": [
    "# load files\n",
    "df_results = pd.read_csv('acts_IK.csv')\n",
    "\n",
    "with open('results_soup_list.pkl', 'rb') as f:\n",
    "    result_ids = pickle.load(f)"
   ]
  },
  {
   "cell_type": "code",
   "execution_count": 8,
   "metadata": {},
   "outputs": [
    {
     "data": {
      "text/plain": [
       "((412, 3), 412)"
      ]
     },
     "execution_count": 8,
     "metadata": {},
     "output_type": "execute_result"
    }
   ],
   "source": [
    "df_results.shape, len(result_ids)"
   ]
  },
  {
   "cell_type": "code",
   "execution_count": null,
   "metadata": {},
   "outputs": [],
   "source": []
  },
  {
   "cell_type": "markdown",
   "metadata": {},
   "source": [
    "### Scrape the act page"
   ]
  },
  {
   "cell_type": "code",
   "execution_count": 144,
   "metadata": {},
   "outputs": [],
   "source": [
    "err = []"
   ]
  },
  {
   "cell_type": "code",
   "execution_count": 145,
   "metadata": {},
   "outputs": [
    {
     "name": "stdout",
     "output_type": "stream",
     "text": [
      "https://indiankanoon.org/doc/1951730/\n",
      "Number of errors: 0\n",
      "Number of acts scraped: 633\n"
     ]
    }
   ],
   "source": [
    "for i, item in enumerate(list(set((df_results[2])))):\n",
    "    if '/doc/' in item:\n",
    "        kanoon_id = item.split('/doc/')[-1]\n",
    "        url  ='https://indiankanoon.org/doc/'+kanoon_id\n",
    "        response = requests.get(url)\n",
    "        clear_output()\n",
    "        print(url)\n",
    "        print('Number of errors: %d' %len(err))\n",
    "        print('Number of acts scraped: %d' %len(os.listdir('IK_acts')))\n",
    "        with open(os.path.join('IK_acts', kanoon_id[:-1]+'.txt'), 'w') as f:\n",
    "            f.write(response.text)\n",
    "        sleep(3)\n",
    "    else:\n",
    "        err.append(item)"
   ]
  },
  {
   "cell_type": "code",
   "execution_count": null,
   "metadata": {},
   "outputs": [],
   "source": []
  },
  {
   "cell_type": "code",
   "execution_count": 111,
   "metadata": {},
   "outputs": [],
   "source": []
  },
  {
   "cell_type": "markdown",
   "metadata": {},
   "source": [
    "### Extract all the ids of the sections and make a python dict"
   ]
  },
  {
   "cell_type": "code",
   "execution_count": 184,
   "metadata": {},
   "outputs": [],
   "source": [
    "all_acts = os.listdir('IK_acts')\n",
    "\n",
    "acts_data = []\n",
    "acts_sections_dict = {}\n",
    "\n",
    "for file in [os.path.join('IK_acts', x) for x in all_acts]:\n",
    "    with open(file, 'r') as f:\n",
    "        d = BeautifulSoup(f.read())\n",
    "        \n",
    "    kanoon_id = file.split('.')[0].split('/')[-1]\n",
    "    title = d.find('div', attrs={'class':'doc_title'}).text\n",
    "    source = d.find('div', attrs={'class':'docsource_main'}).text\n",
    "    links = [x['href'] for x in d.find('div', attrs={'class':'acts'}).find_all('a')]\n",
    "    filtered_links = [re.search(r'[0-9]+', x).group() for x in links if x.split('/')[-2].isdigit()]\n",
    "    \n",
    "    acts_data.append((kanoon_id, title, source))\n",
    "    acts_sections_dict[kanoon_id] = set(filtered_links)\n",
    "    \n",
    "    "
   ]
  },
  {
   "cell_type": "code",
   "execution_count": 186,
   "metadata": {},
   "outputs": [],
   "source": [
    "pd.DataFrame(acts_data, columns = ['kanoon_id', 'act_name', 'source']).to_csv('IK_acts_with_ids.csv', index=False)"
   ]
  },
  {
   "cell_type": "code",
   "execution_count": 187,
   "metadata": {
    "scrolled": false
   },
   "outputs": [],
   "source": [
    "with open('acts_sections_dict.pkl', 'wb') as f:\n",
    "    pickle.dump(acts_sections_dict, f)"
   ]
  },
  {
   "cell_type": "code",
   "execution_count": null,
   "metadata": {},
   "outputs": [],
   "source": []
  },
  {
   "cell_type": "code",
   "execution_count": null,
   "metadata": {},
   "outputs": [],
   "source": []
  },
  {
   "cell_type": "code",
   "execution_count": null,
   "metadata": {},
   "outputs": [],
   "source": []
  },
  {
   "cell_type": "code",
   "execution_count": null,
   "metadata": {},
   "outputs": [],
   "source": []
  },
  {
   "cell_type": "markdown",
   "metadata": {},
   "source": [
    "## Notes\n",
    "\n",
    "1. There are lots of acts (more than 200 pages) pushed into the 01-01-1800 date\n",
    "2. Cross check with the list of central acts to standardize format, spelling etc\n",
    "3. Check which acts are missing"
   ]
  },
  {
   "cell_type": "code",
   "execution_count": null,
   "metadata": {},
   "outputs": [],
   "source": []
  },
  {
   "cell_type": "code",
   "execution_count": null,
   "metadata": {},
   "outputs": [],
   "source": []
  },
  {
   "cell_type": "code",
   "execution_count": null,
   "metadata": {},
   "outputs": [],
   "source": []
  },
  {
   "cell_type": "code",
   "execution_count": null,
   "metadata": {},
   "outputs": [],
   "source": []
  }
 ],
 "metadata": {
  "kernelspec": {
   "display_name": "Python 3",
   "language": "python",
   "name": "python3"
  },
  "language_info": {
   "codemirror_mode": {
    "name": "ipython",
    "version": 3
   },
   "file_extension": ".py",
   "mimetype": "text/x-python",
   "name": "python",
   "nbconvert_exporter": "python",
   "pygments_lexer": "ipython3",
   "version": "3.7.4"
  }
 },
 "nbformat": 4,
 "nbformat_minor": 4
}
